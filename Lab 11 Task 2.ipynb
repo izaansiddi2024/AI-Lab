{
 "cells": [
  {
   "cell_type": "code",
   "execution_count": 1,
   "id": "b3409a26-8b1f-49f0-98cc-183702b01c80",
   "metadata": {},
   "outputs": [],
   "source": [
    "from collections import deque"
   ]
  },
  {
   "cell_type": "code",
   "execution_count": 7,
   "id": "c3176fde-425f-46c5-a441-783189c27ab6",
   "metadata": {},
   "outputs": [],
   "source": [
    "# Graph representation as an adjacency list\n",
    "graph = {\n",
    "    'A': ['B', 'C', 'E'],\n",
    "    'B': ['D'],\n",
    "    'C': ['G'],\n",
    "    'E': ['F'],\n",
    "    'F': ['G'],\n",
    "    'D': [],\n",
    "    'G': []\n",
    "}\n",
    "\n",
    "def bfs(graph, start, goal):\n",
    "    open_list = deque([start])  # Queue for BFS\n",
    "    closed_list = []           # List for visited nodes\n",
    "    \n",
    "    while open_list:\n",
    "        current = open_list.popleft()\n",
    "        closed_list.append(current)\n",
    "        \n",
    "        if current == goal:\n",
    "            print(\"Goal reached!\")\n",
    "            break\n",
    "        \n",
    "        for neighbor in graph[current]:\n",
    "            if neighbor not in closed_list and neighbor not in open_list:\n",
    "                open_list.append(neighbor)\n",
    "        \n",
    "        # Display open and closed lists\n",
    "        print(f\"Open List: {list(open_list)}\")\n",
    "        print(f\"Closed List: {closed_list}\")\n",
    "        print(\"------------------\")\n",
    "    \n",
    "    return closed_list"
   ]
  },
  {
   "cell_type": "code",
   "execution_count": 9,
   "id": "4bf52488-d6de-4d94-ab6a-35562bfccc6c",
   "metadata": {},
   "outputs": [
    {
     "name": "stdin",
     "output_type": "stream",
     "text": [
      "Enter the initial state:  a\n",
      "Enter the final state:  b\n"
     ]
    },
    {
     "name": "stdout",
     "output_type": "stream",
     "text": [
      "Open List: ['B', 'C', 'E']\n",
      "Closed List: ['A']\n",
      "------------------\n",
      "Goal reached!\n",
      "Final Closed List (Path Explored): ['A', 'B']\n"
     ]
    }
   ],
   "source": [
    "#User input for start and goal nodes\n",
    "start_node = input(\"Enter the initial state: \").strip().upper()\n",
    "goal_node = input(\"Enter the final state: \").strip().upper()\n",
    "\n",
    "result = bfs(graph, start_node, goal_node)\n",
    "\n",
    "print(\"Final Closed List (Path Explored):\", result)"
   ]
  },
  {
   "cell_type": "code",
   "execution_count": null,
   "id": "72bca977-6986-49d9-977a-9830fd4d40ad",
   "metadata": {},
   "outputs": [],
   "source": []
  }
 ],
 "metadata": {
  "kernelspec": {
   "display_name": "Python 3 (ipykernel)",
   "language": "python",
   "name": "python3"
  },
  "language_info": {
   "codemirror_mode": {
    "name": "ipython",
    "version": 3
   },
   "file_extension": ".py",
   "mimetype": "text/x-python",
   "name": "python",
   "nbconvert_exporter": "python",
   "pygments_lexer": "ipython3",
   "version": "3.12.7"
  }
 },
 "nbformat": 4,
 "nbformat_minor": 5
}
