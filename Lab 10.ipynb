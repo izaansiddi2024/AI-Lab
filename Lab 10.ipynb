{
 "cells": [
  {
   "cell_type": "code",
   "execution_count": 3,
   "id": "f104d57c-3d32-4a86-bbf1-26b4cbf11ba0",
   "metadata": {},
   "outputs": [],
   "source": [
    "# List of friends' names\n",
    "names = [\"Ateeb\", \"Shariq\", \"Huzaifa\", \"Hamza\"]"
   ]
  },
  {
   "cell_type": "code",
   "execution_count": 4,
   "id": "350161df-7cc8-4059-992f-1d6e0b8f623e",
   "metadata": {},
   "outputs": [
    {
     "name": "stdout",
     "output_type": "stream",
     "text": [
      "Friends' names:\n",
      "Ateeb\n",
      "Shariq\n",
      "Huzaifa\n",
      "Hamza\n"
     ]
    }
   ],
   "source": [
    "# Print each name\n",
    "print(\"Friends' names:\")\n",
    "for name in names:\n",
    "    print(name)\n"
   ]
  },
  {
   "cell_type": "code",
   "execution_count": 5,
   "id": "7b561a88-13a5-4c74-98c9-19b0f4d1c444",
   "metadata": {},
   "outputs": [],
   "source": [
    "# List of people to invite\n",
    "dinner_guests = [\"Albert Einstein\", \"Marie Curie\", \"Ada Lovelace\"]"
   ]
  },
  {
   "cell_type": "code",
   "execution_count": 6,
   "id": "ceff6fbf-56f8-437c-826f-36f491dc86f9",
   "metadata": {},
   "outputs": [
    {
     "name": "stdout",
     "output_type": "stream",
     "text": [
      "Dear Albert Einstein, I would like to invite you to dinner.\n",
      "Dear Marie Curie, I would like to invite you to dinner.\n",
      "Dear Ada Lovelace, I would like to invite you to dinner.\n"
     ]
    }
   ],
   "source": [
    "# Print invitation messages\n",
    "for guest in dinner_guests:\n",
    "    print(f\"Dear {guest}, I would like to invite you to dinner.\")"
   ]
  },
  {
   "cell_type": "code",
   "execution_count": 7,
   "id": "5ed04bd2-8e30-4e7e-9979-20d2bb1826e9",
   "metadata": {},
   "outputs": [],
   "source": [
    "# Original list of dinner guests\n",
    "dinner_guests = [\"Albert Einstein\", \"Marie Curie\", \"Ada Lovelace\"]"
   ]
  },
  {
   "cell_type": "code",
   "execution_count": 8,
   "id": "c6a339a2-9bba-4a2b-bb8e-952b38857942",
   "metadata": {},
   "outputs": [
    {
     "name": "stdout",
     "output_type": "stream",
     "text": [
      "Unfortunately, Marie Curie can't make it to dinner.\n"
     ]
    }
   ],
   "source": [
    "# Message about someone who can't make it\n",
    "print(f\"Unfortunately, {dinner_guests[1]} can't make it to dinner.\")"
   ]
  },
  {
   "cell_type": "code",
   "execution_count": 9,
   "id": "7c8150f1-bb2c-4147-9172-e34a2ecf66d1",
   "metadata": {},
   "outputs": [],
   "source": [
    "# Replace the guest who can't make it\n",
    "dinner_guests[1] = \"Nikola Tesla\""
   ]
  },
  {
   "cell_type": "code",
   "execution_count": 10,
   "id": "a5e6a827-a63e-4810-bb54-52e47db9b23f",
   "metadata": {},
   "outputs": [
    {
     "name": "stdout",
     "output_type": "stream",
     "text": [
      "\n",
      "Updated Invitations:\n",
      "Dear Albert Einstein, I would like to invite you to dinner.\n",
      "Dear Nikola Tesla, I would like to invite you to dinner.\n",
      "Dear Ada Lovelace, I would like to invite you to dinner.\n"
     ]
    }
   ],
   "source": [
    "# Print new invitations\n",
    "print(\"\\nUpdated Invitations:\")\n",
    "for guest in dinner_guests:\n",
    "    print(f\"Dear {guest}, I would like to invite you to dinner.\")"
   ]
  },
  {
   "cell_type": "code",
   "execution_count": 11,
   "id": "160215f7-47fa-43e9-9af9-a8e4c4e2587f",
   "metadata": {},
   "outputs": [],
   "source": [
    "class Employee:\n",
    "    # Class variable to keep track of total employees\n",
    "    employee_count = 0\n",
    "\n",
    "    def __init__(self, emp_name, salary):\n",
    "        self.emp_name = emp_name\n",
    "        self.salary = salary\n",
    "        Employee.employee_count += 1  # Increment the total employee count\n",
    "\n",
    "    @staticmethod\n",
    "    def display_count():\n",
    "        print(f\"Total number of employees: {Employee.employee_count}\")\n",
    "\n",
    "    def display_employee(self):\n",
    "        print(f\"Employee Name: {self.emp_name}, Salary: {self.salary}\")"
   ]
  },
  {
   "cell_type": "code",
   "execution_count": 15,
   "id": "718a9666-d34a-4d64-b5de-05e9c6961a8e",
   "metadata": {},
   "outputs": [],
   "source": [
    "# Example usage\n",
    "emp1 = Employee(\"Huzaifa\", 50000)\n",
    "emp2 = Employee(\"Taha\", 60000)"
   ]
  },
  {
   "cell_type": "code",
   "execution_count": 16,
   "id": "07cba9b8-84f0-4492-ad89-88af685f6611",
   "metadata": {},
   "outputs": [
    {
     "name": "stdout",
     "output_type": "stream",
     "text": [
      "Employee Name: Huzaifa, Salary: 50000\n",
      "Employee Name: Taha, Salary: 60000\n"
     ]
    }
   ],
   "source": [
    "# Display individual employee details\n",
    "emp1.display_employee()\n",
    "emp2.display_employee()"
   ]
  },
  {
   "cell_type": "code",
   "execution_count": 14,
   "id": "fff1e200-336b-450f-98fa-b398e1c27b06",
   "metadata": {},
   "outputs": [
    {
     "name": "stdout",
     "output_type": "stream",
     "text": [
      "Total number of employees: 2\n"
     ]
    }
   ],
   "source": [
    "# Display total number of employees\n",
    "Employee.display_count()"
   ]
  },
  {
   "cell_type": "code",
   "execution_count": 17,
   "id": "b308c38c-3856-4401-a2bd-72a6a1a3b8de",
   "metadata": {},
   "outputs": [],
   "source": [
    "from queue import LifoQueue\n",
    "\n",
    "# Create a LIFO queue\n",
    "lifo_queue = LifoQueue()"
   ]
  },
  {
   "cell_type": "code",
   "execution_count": 18,
   "id": "ab115d03-188f-47d5-b7ce-14c81c08cdfd",
   "metadata": {},
   "outputs": [],
   "source": [
    "# Add items to the queue\n",
    "lifo_queue.put(\"First\")\n",
    "lifo_queue.put(\"Second\")\n",
    "lifo_queue.put(\"Third\")"
   ]
  },
  {
   "cell_type": "code",
   "execution_count": 19,
   "id": "3613673d-1d41-4679-a20b-761ecdcd9205",
   "metadata": {},
   "outputs": [
    {
     "name": "stdout",
     "output_type": "stream",
     "text": [
      "Items removed from LIFO Queue:\n",
      "Third\n",
      "Second\n",
      "First\n"
     ]
    }
   ],
   "source": [
    "# Remove items from the queue (LIFO order)\n",
    "print(\"Items removed from LIFO Queue:\")\n",
    "while not lifo_queue.empty():\n",
    "    print(lifo_queue.get())"
   ]
  },
  {
   "cell_type": "code",
   "execution_count": 20,
   "id": "6ade4221-1e3c-4d8e-8625-9127955e4a96",
   "metadata": {},
   "outputs": [],
   "source": [
    "import heapq"
   ]
  },
  {
   "cell_type": "code",
   "execution_count": 21,
   "id": "5788bc52-d85b-452a-99e9-6217d90ef79e",
   "metadata": {},
   "outputs": [],
   "source": [
    "# Max-Priority Queue implementation using a min-heap with negative values\n",
    "class MaxPriorityQueue:\n",
    "    def __init__(self):\n",
    "        self.queue = []\n",
    "\n",
    "    def insert(self, value):\n",
    "        # Insert the negative of the value to mimic max-priority behavior\n",
    "        heapq.heappush(self.queue, -value)\n",
    "\n",
    "    def pop_max(self):\n",
    "        # Remove and return the max value (convert back to positive)\n",
    "        return -heapq.heappop(self.queue)\n",
    "\n",
    "    def display(self):\n",
    "        # Display the priority queue in sorted order\n",
    "        return sorted([-val for val in self.queue], reverse=True)"
   ]
  },
  {
   "cell_type": "code",
   "execution_count": 22,
   "id": "a6fe4537-4eef-4c3e-b2f6-3465ada17be0",
   "metadata": {},
   "outputs": [],
   "source": [
    "# Input array\n",
    "array = [4, 8, 1, 7, 3]"
   ]
  },
  {
   "cell_type": "code",
   "execution_count": 23,
   "id": "f0e07523-c410-472f-acf0-52d189657725",
   "metadata": {},
   "outputs": [
    {
     "name": "stdout",
     "output_type": "stream",
     "text": [
      "Step-by-step insertion into max-priority queue:\n",
      "Inserted 4: [4]\n",
      "Inserted 8: [8, 4]\n",
      "Inserted 1: [8, 4, 1]\n",
      "Inserted 7: [8, 7, 4, 1]\n",
      "Inserted 3: [8, 7, 4, 3, 1]\n"
     ]
    }
   ],
   "source": [
    "# Create a max-priority queue\n",
    "pq = MaxPriorityQueue()\n",
    "\n",
    "print(\"Step-by-step insertion into max-priority queue:\")\n",
    "for value in array:\n",
    "    pq.insert(value)\n",
    "    print(f\"Inserted {value}: {pq.display()}\")"
   ]
  },
  {
   "cell_type": "code",
   "execution_count": 24,
   "id": "2e9ca22d-b8b1-4c8e-b5b7-a12d5fc1221f",
   "metadata": {},
   "outputs": [],
   "source": [
    "class Vertex:\n",
    "    def __init__(self, key):\n",
    "        self.key = key\n",
    "        self.neighbors = []\n",
    "\n",
    "    def add_neighbor(self, neighbor):\n",
    "        if neighbor not in self.neighbors:\n",
    "            self.neighbors.append(neighbor)\n",
    "            self.neighbors.sort()  # Keep neighbors sorted for easier viewing\n",
    "\n",
    "    def get_neighbors(self):\n",
    "        return self.neighbors\n",
    "\n",
    "    def __str__(self):\n",
    "        return f\"{self.key}: {', '.join(self.neighbors)}\""
   ]
  },
  {
   "cell_type": "code",
   "execution_count": 25,
   "id": "64759d62-fea6-4f89-9dcd-dc381d796d77",
   "metadata": {},
   "outputs": [],
   "source": [
    "class Graph:\n",
    "    def __init__(self):\n",
    "        self.vertices = {}\n",
    "\n",
    "    def add_vertex(self, key):\n",
    "        if key not in self.vertices:\n",
    "            self.vertices[key] = Vertex(key)\n",
    "        else:\n",
    "            print(f\"Vertex {key} already exists.\")\n",
    "\n",
    "    def add_vertices(self, keys):\n",
    "        for key in keys:\n",
    "            self.add_vertex(key)\n",
    "\n",
    "    def add_edge(self, from_vertex, to_vertex):\n",
    "        if from_vertex in self.vertices and to_vertex in self.vertices:\n",
    "            self.vertices[from_vertex].add_neighbor(to_vertex)\n",
    "            self.vertices[to_vertex].add_neighbor(from_vertex)  # Undirected graph\n",
    "        else:\n",
    "            print(f\"One or both vertices '{from_vertex}' and '{to_vertex}' do not exist.\")\n",
    "\n",
    "    def display_graph(self):\n",
    "        print(\"Graph adjacency list:\")\n",
    "        for key in self.vertices:\n",
    "            print(self.vertices[key])\n",
    "\n",
    "    def get_vertices(self):\n",
    "        return list(self.vertices.keys())"
   ]
  },
  {
   "cell_type": "code",
   "execution_count": 26,
   "id": "03dbca20-4757-4bca-90e6-4d32bf8a0b0c",
   "metadata": {},
   "outputs": [],
   "source": [
    "# Example usage\n",
    "g = Graph()"
   ]
  },
  {
   "cell_type": "code",
   "execution_count": 27,
   "id": "d303d32c-a75a-498f-96fe-5d34214b840a",
   "metadata": {},
   "outputs": [],
   "source": [
    "# Adding vertices\n",
    "g.add_vertices([\"A\", \"B\", \"C\", \"D\", \"E\"])"
   ]
  },
  {
   "cell_type": "code",
   "execution_count": 28,
   "id": "1b5dff3b-d580-4938-85c1-5b1a7f6850e4",
   "metadata": {},
   "outputs": [],
   "source": [
    "# Adding edges\n",
    "g.add_edge(\"A\", \"B\")\n",
    "g.add_edge(\"A\", \"E\")\n",
    "g.add_edge(\"A\", \"C\")\n",
    "g.add_edge(\"B\", \"C\")\n",
    "g.add_edge(\"C\", \"D\")\n",
    "g.add_edge(\"E\", \"D\")"
   ]
  },
  {
   "cell_type": "code",
   "execution_count": 29,
   "id": "e5c0448f-60c1-40aa-bc5f-213a22ca7699",
   "metadata": {},
   "outputs": [
    {
     "name": "stdout",
     "output_type": "stream",
     "text": [
      "Graph adjacency list:\n",
      "A: B, C, E\n",
      "B: A, C\n",
      "C: A, B, D\n",
      "D: C, E\n",
      "E: A, D\n"
     ]
    }
   ],
   "source": [
    "# Display the graph\n",
    "g.display_graph()"
   ]
  },
  {
   "cell_type": "code",
   "execution_count": null,
   "id": "f9721ca3-8617-4f75-b1ad-f37a86cb3980",
   "metadata": {},
   "outputs": [],
   "source": []
  }
 ],
 "metadata": {
  "kernelspec": {
   "display_name": "Python 3 (ipykernel)",
   "language": "python",
   "name": "python3"
  },
  "language_info": {
   "codemirror_mode": {
    "name": "ipython",
    "version": 3
   },
   "file_extension": ".py",
   "mimetype": "text/x-python",
   "name": "python",
   "nbconvert_exporter": "python",
   "pygments_lexer": "ipython3",
   "version": "3.11.0"
  }
 },
 "nbformat": 4,
 "nbformat_minor": 5
}
