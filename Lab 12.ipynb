{
 "cells": [
  {
   "cell_type": "code",
   "execution_count": 1,
   "id": "4b0140f1-c6c3-47ca-8d77-36a8df0fa78a",
   "metadata": {},
   "outputs": [],
   "source": [
    "# Python code for Minimax Algorithm in Tic-Tac-Toe\n",
    "import math"
   ]
  },
  {
   "cell_type": "code",
   "execution_count": 2,
   "id": "4abad3ac-bc09-4298-b147-4631e209e14e",
   "metadata": {},
   "outputs": [],
   "source": [
    "# Define constants for player symbols\n",
    "PLAYER_X = 'X'\n",
    "PLAYER_O = 'O'\n",
    "EMPTY = ' '"
   ]
  },
  {
   "cell_type": "code",
   "execution_count": 3,
   "id": "bc5180d2-2562-4a45-9b61-dcbe42abb5b1",
   "metadata": {},
   "outputs": [],
   "source": [
    "# Check if the current player has won\n",
    "def check_winner(board, player):\n",
    "    # Check rows, columns, and diagonals\n",
    "    for i in range(3):\n",
    "        if all([board[i][j] == player for j in range(3)]) or all([board[j][i] == player for j in range(3)]):\n",
    "            return True\n",
    "    if board[0][0] == player and board[1][1] == player and board[2][2] == player:\n",
    "        return True\n",
    "    if board[0][2] == player and board[1][1] == player and board[2][0] == player:\n",
    "        return True\n",
    "    return False"
   ]
  },
  {
   "cell_type": "code",
   "execution_count": 4,
   "id": "56eb3907-0073-4f2a-ad3e-4457390dc3ee",
   "metadata": {},
   "outputs": [],
   "source": [
    "# Check if the board is full (no empty spaces)\n",
    "def is_full(board):\n",
    "    return all(board[i][j] != EMPTY for i in range(3) for j in range(3))"
   ]
  },
  {
   "cell_type": "code",
   "execution_count": 5,
   "id": "b1a7c483-ec13-40d6-b2a9-458b29952fa2",
   "metadata": {},
   "outputs": [],
   "source": [
    "# Minimax algorithm\n",
    "def minimax(board, depth, is_maximizing, alpha, beta):\n",
    "    # Check if the game has ended\n",
    "    if check_winner(board, PLAYER_X):\n",
    "        return 10 - depth\n",
    "    if check_winner(board, PLAYER_O):\n",
    "        return depth - 10\n",
    "    if is_full(board):\n",
    "        return 0\n",
    "    \n",
    "    if is_maximizing:\n",
    "        max_eval = -math.inf\n",
    "        for i in range(3):\n",
    "            for j in range(3):\n",
    "                if board[i][j] == EMPTY:\n",
    "                    board[i][j] = PLAYER_X\n",
    "                    eval = minimax(board, depth + 1, False, alpha, beta)\n",
    "                    board[i][j] = EMPTY\n",
    "                    max_eval = max(max_eval, eval)\n",
    "                    alpha = max(alpha, eval)\n",
    "                    if beta <= alpha:\n",
    "                        break\n",
    "        return max_eval\n",
    "    else:\n",
    "        min_eval = math.inf\n",
    "        for i in range(3):\n",
    "            for j in range(3):\n",
    "                if board[i][j] == EMPTY:\n",
    "                    board[i][j] = PLAYER_O\n",
    "                    eval = minimax(board, depth + 1, True, alpha, beta)\n",
    "                    board[i][j] = EMPTY\n",
    "                    min_eval = min(min_eval, eval)\n",
    "                    beta = min(beta, eval)\n",
    "                    if beta <= alpha:\n",
    "                        break\n",
    "        return min_eval"
   ]
  },
  {
   "cell_type": "code",
   "execution_count": 6,
   "id": "c32cb5e1-c1e6-426c-b0f9-426475b24cb0",
   "metadata": {},
   "outputs": [],
   "source": [
    "# Find the best move for the current player\n",
    "def best_move(board, is_maximizing):\n",
    "    best_val = -math.inf if is_maximizing else math.inf\n",
    "    move = (-1, -1)\n",
    "    \n",
    "    for i in range(3):\n",
    "        for j in range(3):\n",
    "            if board[i][j] == EMPTY:\n",
    "                board[i][j] = PLAYER_X if is_maximizing else PLAYER_O\n",
    "                move_val = minimax(board, 0, not is_maximizing, -math.inf, math.inf)\n",
    "                board[i][j] = EMPTY\n",
    "                if (is_maximizing and move_val > best_val) or (not is_maximizing and move_val < best_val):\n",
    "                    best_val = move_val\n",
    "                    move = (i, j)\n",
    "    \n",
    "    return move"
   ]
  },
  {
   "cell_type": "code",
   "execution_count": 7,
   "id": "340a29af-481a-4e0b-80fa-04330a281dbd",
   "metadata": {},
   "outputs": [],
   "source": [
    "# Print the current board state\n",
    "def print_board(board):\n",
    "    for row in board:\n",
    "        print(' | '.join(row))\n",
    "        print('-' * 5)"
   ]
  },
  {
   "cell_type": "code",
   "execution_count": 8,
   "id": "0b7dfbae-ace9-4db8-affc-e210bd8d28b5",
   "metadata": {},
   "outputs": [
    {
     "name": "stdout",
     "output_type": "stream",
     "text": [
      "Initial Board:\n",
      "  |   |  \n",
      "-----\n",
      "  |   |  \n",
      "-----\n",
      "  |   |  \n",
      "-----\n",
      "Best Move for X: (0, 0)\n",
      "\n",
      "Board after X's move:\n",
      "X |   |  \n",
      "-----\n",
      "  |   |  \n",
      "-----\n",
      "  |   |  \n",
      "-----\n"
     ]
    }
   ],
   "source": [
    "# Driver code\n",
    "if __name__ == \"__main__\":\n",
    "    board = [\n",
    "        [EMPTY, EMPTY, EMPTY],\n",
    "        [EMPTY, EMPTY, EMPTY],\n",
    "        [EMPTY, EMPTY, EMPTY]\n",
    "    ]\n",
    "    \n",
    "    # Example of running the algorithm for Player X (Maximizing)\n",
    "    print(\"Initial Board:\")\n",
    "    print_board(board)\n",
    "    move = best_move(board, True)  # True means Player X's turn\n",
    "    print(f\"Best Move for X: {move}\")\n",
    "    \n",
    "    # Make the move\n",
    "    board[move[0]][move[1]] = PLAYER_X\n",
    "    print(\"\\nBoard after X's move:\")\n",
    "    print_board(board)"
   ]
  },
  {
   "cell_type": "code",
   "execution_count": null,
   "id": "19fefe5d-23a7-44a4-8e4b-4b44d0864f6a",
   "metadata": {},
   "outputs": [],
   "source": []
  }
 ],
 "metadata": {
  "kernelspec": {
   "display_name": "Python 3 (ipykernel)",
   "language": "python",
   "name": "python3"
  },
  "language_info": {
   "codemirror_mode": {
    "name": "ipython",
    "version": 3
   },
   "file_extension": ".py",
   "mimetype": "text/x-python",
   "name": "python",
   "nbconvert_exporter": "python",
   "pygments_lexer": "ipython3",
   "version": "3.11.0"
  }
 },
 "nbformat": 4,
 "nbformat_minor": 5
}
