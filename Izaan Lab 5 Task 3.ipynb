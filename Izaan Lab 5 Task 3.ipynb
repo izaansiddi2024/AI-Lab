{
 "cells": [
  {
   "cell_type": "code",
   "execution_count": 11,
   "id": "a1598627-3fb5-415e-9f82-dcc6fc52b2ae",
   "metadata": {},
   "outputs": [],
   "source": [
    "# Importing required libraries\n",
    "import numpy as np\n",
    "from sklearn.tree import DecisionTreeClassifier\n",
    "from sklearn.metrics import confusion_matrix, accuracy_score"
   ]
  },
  {
   "cell_type": "code",
   "execution_count": 12,
   "id": "e514cd52-59eb-4686-98ef-93eab7e3e7a8",
   "metadata": {},
   "outputs": [],
   "source": [
    "# Step 1: Define the dataset (from Table 1) using numpy arrays\n",
    "gender = np.array(['male', 'male', 'male', 'male', 'female', 'female', 'female', 'female'])\n",
    "height = np.array([6.00, 5.92, 5.58, 5.92, 5.00, 5.50, 5.42, 5.75])\n",
    "weight = np.array([180, 190, 170, 165, 100, 150, 130, 150])\n",
    "foot_size = np.array([12, 11, 12, 10, 6, 8, 7, 9])"
   ]
  },
  {
   "cell_type": "code",
   "execution_count": 13,
   "id": "e3588ad2-b314-4847-84eb-f20d7d767ebe",
   "metadata": {},
   "outputs": [],
   "source": [
    "# Step 2: Encode the 'Gender' column using numpy (manual encoding)\n",
    "# male -> 1, female -> 0\n",
    "gender_encoded = np.where(gender == 'male', 1, 0)"
   ]
  },
  {
   "cell_type": "code",
   "execution_count": 14,
   "id": "eeea884b-61f8-47f7-a0bd-f413258ef1e7",
   "metadata": {},
   "outputs": [],
   "source": [
    "\n",
    "# Step 3: Combine features into a single matrix (Height, Weight, Foot_Size)\n",
    "features = np.column_stack((height, weight, foot_size))"
   ]
  },
  {
   "cell_type": "code",
   "execution_count": 15,
   "id": "c68f9611-f5a9-4016-98a9-d3e2dc0aa67b",
   "metadata": {},
   "outputs": [
    {
     "data": {
      "text/html": [
       "<style>#sk-container-id-1 {color: black;background-color: white;}#sk-container-id-1 pre{padding: 0;}#sk-container-id-1 div.sk-toggleable {background-color: white;}#sk-container-id-1 label.sk-toggleable__label {cursor: pointer;display: block;width: 100%;margin-bottom: 0;padding: 0.3em;box-sizing: border-box;text-align: center;}#sk-container-id-1 label.sk-toggleable__label-arrow:before {content: \"▸\";float: left;margin-right: 0.25em;color: #696969;}#sk-container-id-1 label.sk-toggleable__label-arrow:hover:before {color: black;}#sk-container-id-1 div.sk-estimator:hover label.sk-toggleable__label-arrow:before {color: black;}#sk-container-id-1 div.sk-toggleable__content {max-height: 0;max-width: 0;overflow: hidden;text-align: left;background-color: #f0f8ff;}#sk-container-id-1 div.sk-toggleable__content pre {margin: 0.2em;color: black;border-radius: 0.25em;background-color: #f0f8ff;}#sk-container-id-1 input.sk-toggleable__control:checked~div.sk-toggleable__content {max-height: 200px;max-width: 100%;overflow: auto;}#sk-container-id-1 input.sk-toggleable__control:checked~label.sk-toggleable__label-arrow:before {content: \"▾\";}#sk-container-id-1 div.sk-estimator input.sk-toggleable__control:checked~label.sk-toggleable__label {background-color: #d4ebff;}#sk-container-id-1 div.sk-label input.sk-toggleable__control:checked~label.sk-toggleable__label {background-color: #d4ebff;}#sk-container-id-1 input.sk-hidden--visually {border: 0;clip: rect(1px 1px 1px 1px);clip: rect(1px, 1px, 1px, 1px);height: 1px;margin: -1px;overflow: hidden;padding: 0;position: absolute;width: 1px;}#sk-container-id-1 div.sk-estimator {font-family: monospace;background-color: #f0f8ff;border: 1px dotted black;border-radius: 0.25em;box-sizing: border-box;margin-bottom: 0.5em;}#sk-container-id-1 div.sk-estimator:hover {background-color: #d4ebff;}#sk-container-id-1 div.sk-parallel-item::after {content: \"\";width: 100%;border-bottom: 1px solid gray;flex-grow: 1;}#sk-container-id-1 div.sk-label:hover label.sk-toggleable__label {background-color: #d4ebff;}#sk-container-id-1 div.sk-serial::before {content: \"\";position: absolute;border-left: 1px solid gray;box-sizing: border-box;top: 0;bottom: 0;left: 50%;z-index: 0;}#sk-container-id-1 div.sk-serial {display: flex;flex-direction: column;align-items: center;background-color: white;padding-right: 0.2em;padding-left: 0.2em;position: relative;}#sk-container-id-1 div.sk-item {position: relative;z-index: 1;}#sk-container-id-1 div.sk-parallel {display: flex;align-items: stretch;justify-content: center;background-color: white;position: relative;}#sk-container-id-1 div.sk-item::before, #sk-container-id-1 div.sk-parallel-item::before {content: \"\";position: absolute;border-left: 1px solid gray;box-sizing: border-box;top: 0;bottom: 0;left: 50%;z-index: -1;}#sk-container-id-1 div.sk-parallel-item {display: flex;flex-direction: column;z-index: 1;position: relative;background-color: white;}#sk-container-id-1 div.sk-parallel-item:first-child::after {align-self: flex-end;width: 50%;}#sk-container-id-1 div.sk-parallel-item:last-child::after {align-self: flex-start;width: 50%;}#sk-container-id-1 div.sk-parallel-item:only-child::after {width: 0;}#sk-container-id-1 div.sk-dashed-wrapped {border: 1px dashed gray;margin: 0 0.4em 0.5em 0.4em;box-sizing: border-box;padding-bottom: 0.4em;background-color: white;}#sk-container-id-1 div.sk-label label {font-family: monospace;font-weight: bold;display: inline-block;line-height: 1.2em;}#sk-container-id-1 div.sk-label-container {text-align: center;}#sk-container-id-1 div.sk-container {/* jupyter's `normalize.less` sets `[hidden] { display: none; }` but bootstrap.min.css set `[hidden] { display: none !important; }` so we also need the `!important` here to be able to override the default hidden behavior on the sphinx rendered scikit-learn.org. See: https://github.com/scikit-learn/scikit-learn/issues/21755 */display: inline-block !important;position: relative;}#sk-container-id-1 div.sk-text-repr-fallback {display: none;}</style><div id=\"sk-container-id-1\" class=\"sk-top-container\"><div class=\"sk-text-repr-fallback\"><pre>DecisionTreeClassifier()</pre><b>In a Jupyter environment, please rerun this cell to show the HTML representation or trust the notebook. <br />On GitHub, the HTML representation is unable to render, please try loading this page with nbviewer.org.</b></div><div class=\"sk-container\" hidden><div class=\"sk-item\"><div class=\"sk-estimator sk-toggleable\"><input class=\"sk-toggleable__control sk-hidden--visually\" id=\"sk-estimator-id-1\" type=\"checkbox\" checked><label for=\"sk-estimator-id-1\" class=\"sk-toggleable__label sk-toggleable__label-arrow\">DecisionTreeClassifier</label><div class=\"sk-toggleable__content\"><pre>DecisionTreeClassifier()</pre></div></div></div></div></div>"
      ],
      "text/plain": [
       "DecisionTreeClassifier()"
      ]
     },
     "execution_count": 15,
     "metadata": {},
     "output_type": "execute_result"
    }
   ],
   "source": [
    "# Step 4: Initialize and train the Decision Tree Classifier\n",
    "classifier = DecisionTreeClassifier()\n",
    "classifier.fit(features, gender_encoded)"
   ]
  },
  {
   "cell_type": "code",
   "execution_count": 16,
   "id": "c0b1760f-dd6d-45d1-a97c-baad42aca6ec",
   "metadata": {},
   "outputs": [],
   "source": [
    "# Step 5: Predict the class for a new entry (example entry)\n",
    "new_entry = np.array([[6.00, 180, 12]])  # New entry with height, weight, and foot size\n",
    "prediction = classifier.predict(new_entry)\n",
    "\n",
    "# Convert the numeric prediction back to the original label ('male' or 'female')\n",
    "predicted_gender = 'male' if prediction == 1 else 'female'\n"
   ]
  },
  {
   "cell_type": "code",
   "execution_count": 17,
   "id": "d0327f3e-850b-4f84-b53e-4aa876a8f071",
   "metadata": {},
   "outputs": [
    {
     "name": "stdout",
     "output_type": "stream",
     "text": [
      "Predicted Gender for new entry [[  6. 180.  12.]]: male\n"
     ]
    }
   ],
   "source": [
    "# Step 6: Output the prediction\n",
    "print(f\"Predicted Gender for new entry {new_entry}: {predicted_gender}\")\n"
   ]
  },
  {
   "cell_type": "code",
   "execution_count": 18,
   "id": "304da4a9-f7dd-4c7a-bddc-883f0283323b",
   "metadata": {},
   "outputs": [],
   "source": [
    "# Step 7: Evaluate the model using confusion matrix and accuracy score\n",
    "# Predict on the same dataset (just for evaluation)\n",
    "predictions = classifier.predict(features)\n",
    "conf_matrix = confusion_matrix(gender_encoded, predictions)\n",
    "accuracy = accuracy_score(gender_encoded, predictions)"
   ]
  },
  {
   "cell_type": "code",
   "execution_count": 19,
   "id": "ad81ba87-b1e5-41a7-8f79-989f4d3ae414",
   "metadata": {},
   "outputs": [
    {
     "name": "stdout",
     "output_type": "stream",
     "text": [
      "\n",
      "Confusion Matrix:\n",
      "[[4 0]\n",
      " [0 4]]\n",
      "\n",
      "Accuracy Score: 100.00%\n"
     ]
    }
   ],
   "source": [
    "# Step 8: Print the evaluation results\n",
    "print(\"\\nConfusion Matrix:\")\n",
    "print(conf_matrix)\n",
    "print(f\"\\nAccuracy Score: {accuracy * 100:.2f}%\")"
   ]
  },
  {
   "cell_type": "code",
   "execution_count": null,
   "id": "b7c76a89-18b6-434c-b32b-05f8bd8e68b8",
   "metadata": {},
   "outputs": [],
   "source": []
  }
 ],
 "metadata": {
  "kernelspec": {
   "display_name": "Python 3 (ipykernel)",
   "language": "python",
   "name": "python3"
  },
  "language_info": {
   "codemirror_mode": {
    "name": "ipython",
    "version": 3
   },
   "file_extension": ".py",
   "mimetype": "text/x-python",
   "name": "python",
   "nbconvert_exporter": "python",
   "pygments_lexer": "ipython3",
   "version": "3.11.7"
  }
 },
 "nbformat": 4,
 "nbformat_minor": 5
}
