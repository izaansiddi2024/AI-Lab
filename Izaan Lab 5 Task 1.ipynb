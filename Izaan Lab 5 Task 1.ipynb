{
 "cells": [
  {
   "cell_type": "code",
   "execution_count": 1,
   "id": "a3777c27-7863-428d-b750-47392473878e",
   "metadata": {},
   "outputs": [],
   "source": [
    "import pandas as pd\n",
    "from sklearn.tree import DecisionTreeClassifier\n",
    "from sklearn.preprocessing import LabelEncoder"
   ]
  },
  {
   "cell_type": "code",
   "execution_count": 2,
   "id": "db2f9f4a-1cd7-4f33-ad94-5834465290d7",
   "metadata": {},
   "outputs": [],
   "source": [
    "# Step 1: Define the dataset (from Table 1)\n",
    "data = {\n",
    "    'Gender': ['male', 'male', 'male', 'male', 'female', 'female', 'female', 'female'],\n",
    "    'Height': [6.00, 5.92, 5.58, 5.92, 5.00, 5.50, 5.42, 5.75],\n",
    "    'Weight': [180, 190, 170, 165, 100, 150, 130, 150],\n",
    "    'Foot_Size': [12, 11, 12, 10, 6, 8, 7, 9]\n",
    "}"
   ]
  },
  {
   "cell_type": "code",
   "execution_count": 3,
   "id": "35247581-a607-4d60-a000-61bfeac2a495",
   "metadata": {},
   "outputs": [],
   "source": [
    "# Step 2: Create a DataFrame\n",
    "df = pd.DataFrame(data)"
   ]
  },
  {
   "cell_type": "code",
   "execution_count": 4,
   "id": "828f6687-b83e-4aff-ae1b-7bf05b241730",
   "metadata": {},
   "outputs": [],
   "source": [
    "# Step 3: Encode the 'Gender' column using LabelEncoder\n",
    "label_encoder = LabelEncoder()\n",
    "df['Gender'] = label_encoder.fit_transform(df['Gender'])  # Encode Gender: male -> 1, female -> 0"
   ]
  },
  {
   "cell_type": "code",
   "execution_count": 5,
   "id": "96396dc2-c544-4528-9f60-73cddcea6f29",
   "metadata": {},
   "outputs": [],
   "source": [
    "# Step 4: Separate features (X) and target variable (y)\n",
    "X = df[['Height', 'Weight', 'Foot_Size']]  # Features: Height, Weight, Foot_Size\n",
    "y = df['Gender']  # Target: Gender"
   ]
  },
  {
   "cell_type": "code",
   "execution_count": 6,
   "id": "d667e4a1-b304-4b97-bcca-8f7dfaa235b6",
   "metadata": {},
   "outputs": [
    {
     "data": {
      "text/html": [
       "<style>#sk-container-id-1 {color: black;background-color: white;}#sk-container-id-1 pre{padding: 0;}#sk-container-id-1 div.sk-toggleable {background-color: white;}#sk-container-id-1 label.sk-toggleable__label {cursor: pointer;display: block;width: 100%;margin-bottom: 0;padding: 0.3em;box-sizing: border-box;text-align: center;}#sk-container-id-1 label.sk-toggleable__label-arrow:before {content: \"▸\";float: left;margin-right: 0.25em;color: #696969;}#sk-container-id-1 label.sk-toggleable__label-arrow:hover:before {color: black;}#sk-container-id-1 div.sk-estimator:hover label.sk-toggleable__label-arrow:before {color: black;}#sk-container-id-1 div.sk-toggleable__content {max-height: 0;max-width: 0;overflow: hidden;text-align: left;background-color: #f0f8ff;}#sk-container-id-1 div.sk-toggleable__content pre {margin: 0.2em;color: black;border-radius: 0.25em;background-color: #f0f8ff;}#sk-container-id-1 input.sk-toggleable__control:checked~div.sk-toggleable__content {max-height: 200px;max-width: 100%;overflow: auto;}#sk-container-id-1 input.sk-toggleable__control:checked~label.sk-toggleable__label-arrow:before {content: \"▾\";}#sk-container-id-1 div.sk-estimator input.sk-toggleable__control:checked~label.sk-toggleable__label {background-color: #d4ebff;}#sk-container-id-1 div.sk-label input.sk-toggleable__control:checked~label.sk-toggleable__label {background-color: #d4ebff;}#sk-container-id-1 input.sk-hidden--visually {border: 0;clip: rect(1px 1px 1px 1px);clip: rect(1px, 1px, 1px, 1px);height: 1px;margin: -1px;overflow: hidden;padding: 0;position: absolute;width: 1px;}#sk-container-id-1 div.sk-estimator {font-family: monospace;background-color: #f0f8ff;border: 1px dotted black;border-radius: 0.25em;box-sizing: border-box;margin-bottom: 0.5em;}#sk-container-id-1 div.sk-estimator:hover {background-color: #d4ebff;}#sk-container-id-1 div.sk-parallel-item::after {content: \"\";width: 100%;border-bottom: 1px solid gray;flex-grow: 1;}#sk-container-id-1 div.sk-label:hover label.sk-toggleable__label {background-color: #d4ebff;}#sk-container-id-1 div.sk-serial::before {content: \"\";position: absolute;border-left: 1px solid gray;box-sizing: border-box;top: 0;bottom: 0;left: 50%;z-index: 0;}#sk-container-id-1 div.sk-serial {display: flex;flex-direction: column;align-items: center;background-color: white;padding-right: 0.2em;padding-left: 0.2em;position: relative;}#sk-container-id-1 div.sk-item {position: relative;z-index: 1;}#sk-container-id-1 div.sk-parallel {display: flex;align-items: stretch;justify-content: center;background-color: white;position: relative;}#sk-container-id-1 div.sk-item::before, #sk-container-id-1 div.sk-parallel-item::before {content: \"\";position: absolute;border-left: 1px solid gray;box-sizing: border-box;top: 0;bottom: 0;left: 50%;z-index: -1;}#sk-container-id-1 div.sk-parallel-item {display: flex;flex-direction: column;z-index: 1;position: relative;background-color: white;}#sk-container-id-1 div.sk-parallel-item:first-child::after {align-self: flex-end;width: 50%;}#sk-container-id-1 div.sk-parallel-item:last-child::after {align-self: flex-start;width: 50%;}#sk-container-id-1 div.sk-parallel-item:only-child::after {width: 0;}#sk-container-id-1 div.sk-dashed-wrapped {border: 1px dashed gray;margin: 0 0.4em 0.5em 0.4em;box-sizing: border-box;padding-bottom: 0.4em;background-color: white;}#sk-container-id-1 div.sk-label label {font-family: monospace;font-weight: bold;display: inline-block;line-height: 1.2em;}#sk-container-id-1 div.sk-label-container {text-align: center;}#sk-container-id-1 div.sk-container {/* jupyter's `normalize.less` sets `[hidden] { display: none; }` but bootstrap.min.css set `[hidden] { display: none !important; }` so we also need the `!important` here to be able to override the default hidden behavior on the sphinx rendered scikit-learn.org. See: https://github.com/scikit-learn/scikit-learn/issues/21755 */display: inline-block !important;position: relative;}#sk-container-id-1 div.sk-text-repr-fallback {display: none;}</style><div id=\"sk-container-id-1\" class=\"sk-top-container\"><div class=\"sk-text-repr-fallback\"><pre>DecisionTreeClassifier()</pre><b>In a Jupyter environment, please rerun this cell to show the HTML representation or trust the notebook. <br />On GitHub, the HTML representation is unable to render, please try loading this page with nbviewer.org.</b></div><div class=\"sk-container\" hidden><div class=\"sk-item\"><div class=\"sk-estimator sk-toggleable\"><input class=\"sk-toggleable__control sk-hidden--visually\" id=\"sk-estimator-id-1\" type=\"checkbox\" checked><label for=\"sk-estimator-id-1\" class=\"sk-toggleable__label sk-toggleable__label-arrow\">DecisionTreeClassifier</label><div class=\"sk-toggleable__content\"><pre>DecisionTreeClassifier()</pre></div></div></div></div></div>"
      ],
      "text/plain": [
       "DecisionTreeClassifier()"
      ]
     },
     "execution_count": 6,
     "metadata": {},
     "output_type": "execute_result"
    }
   ],
   "source": [
    "# Step 5: Train a Decision Tree Classifier\n",
    "clf = DecisionTreeClassifier()\n",
    "clf.fit(X, y)"
   ]
  },
  {
   "cell_type": "code",
   "execution_count": 7,
   "id": "7ff5fe16-7312-47ae-a242-4d920869ee2a",
   "metadata": {},
   "outputs": [
    {
     "name": "stdout",
     "output_type": "stream",
     "text": [
      "Enter the details for a new entry:\n"
     ]
    },
    {
     "name": "stdin",
     "output_type": "stream",
     "text": [
      "Height:  6\n",
      "Weight:  65\n",
      "Foot Size:  9\n"
     ]
    }
   ],
   "source": [
    "# Step 6: Predict gender for a new user entry\n",
    "# Request new entry from the user\n",
    "print(\"Enter the details for a new entry:\")\n",
    "new_height = float(input(\"Height: \"))\n",
    "new_weight = float(input(\"Weight: \"))\n",
    "new_foot_size = int(input(\"Foot Size: \"))"
   ]
  },
  {
   "cell_type": "code",
   "execution_count": 9,
   "id": "0f232e40-9d6c-44a3-9a3c-65bd675d0a9c",
   "metadata": {},
   "outputs": [],
   "source": [
    "# Convert new entry to a DataFrame with matching column names\n",
    "new_entry = pd.DataFrame([[new_height, new_weight, new_foot_size]], columns=['Height', 'Weight', 'Foot_Size'])"
   ]
  },
  {
   "cell_type": "code",
   "execution_count": 10,
   "id": "b5443929-c935-4102-a2e6-9fb6da063a85",
   "metadata": {},
   "outputs": [],
   "source": [
    "# Predict the gender\n",
    "predicted_gender = clf.predict(new_entry)[0]\n",
    "predicted_gender_label = label_encoder.inverse_transform([predicted_gender])[0]"
   ]
  },
  {
   "cell_type": "code",
   "execution_count": 11,
   "id": "d32c8ec0-d647-40aa-94fd-c5c85651d775",
   "metadata": {},
   "outputs": [
    {
     "name": "stdout",
     "output_type": "stream",
     "text": [
      "\n",
      "Predicted Gender: female\n"
     ]
    }
   ],
   "source": [
    "# Output the predicted gender\n",
    "print(f\"\\nPredicted Gender: {predicted_gender_label}\")"
   ]
  },
  {
   "cell_type": "code",
   "execution_count": null,
   "id": "b2bc0ce6-9e10-49c1-9a9e-6b3274e5291f",
   "metadata": {},
   "outputs": [],
   "source": []
  }
 ],
 "metadata": {
  "kernelspec": {
   "display_name": "Python 3 (ipykernel)",
   "language": "python",
   "name": "python3"
  },
  "language_info": {
   "codemirror_mode": {
    "name": "ipython",
    "version": 3
   },
   "file_extension": ".py",
   "mimetype": "text/x-python",
   "name": "python",
   "nbconvert_exporter": "python",
   "pygments_lexer": "ipython3",
   "version": "3.11.7"
  }
 },
 "nbformat": 4,
 "nbformat_minor": 5
}
