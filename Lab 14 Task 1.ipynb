{
 "cells": [
  {
   "cell_type": "code",
   "execution_count": 1,
   "id": "8810ac9f-e142-420e-b4e4-0ef80a7aad3c",
   "metadata": {},
   "outputs": [],
   "source": [
    "from collections import deque"
   ]
  },
  {
   "cell_type": "code",
   "execution_count": 2,
   "id": "403c257a-fd92-4e69-9fc6-54d2fa0a073f",
   "metadata": {},
   "outputs": [],
   "source": [
    "# Define the graph using a dictionary\n",
    "graph = {\n",
    "    'A': ['B', 'C', 'D'],\n",
    "    'B': [],\n",
    "    'C': ['E', 'F'],\n",
    "    'D': [],\n",
    "    'E': [],\n",
    "    'F': []\n",
    "}\n",
    "\n",
    "def bfs(graph, start, goal):\n",
    "    # Initialize open and closed lists\n",
    "    open_list = deque([start])\n",
    "    closed_list = []\n",
    "\n",
    "    # Perform BFS\n",
    "    while open_list:\n",
    "        # Get the first node from the open list\n",
    "        current = open_list.popleft()\n",
    "        closed_list.append(current)\n",
    "\n",
    "        # Check if we have reached the goal\n",
    "        if current == goal:\n",
    "            print(\"Goal found!\")\n",
    "            print(\"Open List:\", list(open_list))\n",
    "            print(\"Closed List:\", closed_list)\n",
    "            return\n",
    "\n",
    "        # Add neighbors to the open list if not already explored\n",
    "        for neighbor in graph[current]:\n",
    "            if neighbor not in open_list and neighbor not in closed_list:\n",
    "                open_list.append(neighbor)\n",
    "\n",
    "    print(\"Goal not found!\")\n",
    "    print(\"Open List:\", list(open_list))\n",
    "    print(\"Closed List:\", closed_list)"
   ]
  },
  {
   "cell_type": "code",
   "execution_count": 3,
   "id": "23257a94-9686-4fe3-bbf3-d578c56abbf4",
   "metadata": {},
   "outputs": [
    {
     "name": "stdout",
     "output_type": "stream",
     "text": [
      "Goal found!\n",
      "Open List: []\n",
      "Closed List: ['A', 'B', 'C', 'D', 'E', 'F']\n"
     ]
    }
   ],
   "source": [
    "# Run BFS on the graph\n",
    "bfs(graph, start='A', goal='F')"
   ]
  },
  {
   "cell_type": "code",
   "execution_count": null,
   "id": "b4cbd7a2-7352-4c39-a658-ada9c987b95e",
   "metadata": {},
   "outputs": [],
   "source": []
  }
 ],
 "metadata": {
  "kernelspec": {
   "display_name": "Python 3 (ipykernel)",
   "language": "python",
   "name": "python3"
  },
  "language_info": {
   "codemirror_mode": {
    "name": "ipython",
    "version": 3
   },
   "file_extension": ".py",
   "mimetype": "text/x-python",
   "name": "python",
   "nbconvert_exporter": "python",
   "pygments_lexer": "ipython3",
   "version": "3.11.0"
  }
 },
 "nbformat": 4,
 "nbformat_minor": 5
}
