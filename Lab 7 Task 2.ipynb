{
 "cells": [
  {
   "cell_type": "code",
   "execution_count": 6,
   "id": "81afce49-0867-409b-874a-680f7c2e701e",
   "metadata": {},
   "outputs": [],
   "source": [
    "import pandas as pd\n",
    "import numpy as np"
   ]
  },
  {
   "cell_type": "code",
   "execution_count": 7,
   "id": "4cb6cfd6-6614-4d7e-a063-d098e0d1dd9d",
   "metadata": {},
   "outputs": [],
   "source": [
    "# Create a sample dataset\n",
    "data = pd.DataFrame({\n",
    "    'Age': np.random.randint(18, 30, size=100),\n",
    "    'Gender': np.random.choice(['Male', 'Female'], size=100),\n",
    "    'GPA': np.round(np.random.uniform(2.0, 4.0, size=100), 2),\n",
    "    'Attendance': np.random.randint(50, 100, size=100),  # percentage\n",
    "    'Study_Hours': np.random.randint(1, 20, size=100),\n",
    "    'Extracurricular': np.random.choice(['Yes', 'No'], size=100),\n",
    "    'Previous_Grade': np.random.randint(50, 100, size=100),\n",
    "    'Target': np.random.choice(['Pass', 'Fail'], size=100)\n",
    "})"
   ]
  },
  {
   "cell_type": "code",
   "execution_count": 8,
   "id": "a144ca79-a2de-4fd7-8923-4858679a8500",
   "metadata": {},
   "outputs": [
    {
     "name": "stdout",
     "output_type": "stream",
     "text": [
      "Sample dataset 'student_records.csv' created!\n"
     ]
    }
   ],
   "source": [
    "# Save the dataset as a CSV file\n",
    "data.to_csv('student_records.csv', index=False)\n",
    "\n",
    "print(\"Sample dataset 'student_records.csv' created!\")\n"
   ]
  },
  {
   "cell_type": "code",
   "execution_count": 9,
   "id": "72bedf73-027c-4def-91f1-d09dcdc600dc",
   "metadata": {},
   "outputs": [],
   "source": [
    "data = pd.read_csv('student_records.csv')"
   ]
  },
  {
   "cell_type": "code",
   "execution_count": 13,
   "id": "438e253c-4264-4df7-ac96-38e08d848593",
   "metadata": {},
   "outputs": [],
   "source": [
    "data = pd.read_csv('D:student_records.csv')\n"
   ]
  },
  {
   "cell_type": "code",
   "execution_count": 14,
   "id": "c97e2d7e-9e6f-4b97-a0db-9dad13fad361",
   "metadata": {},
   "outputs": [
    {
     "name": "stdout",
     "output_type": "stream",
     "text": [
      "Current Working Directory: D:\\JN\n"
     ]
    }
   ],
   "source": [
    "import os\n",
    "print(\"Current Working Directory:\", os.getcwd())\n"
   ]
  },
  {
   "cell_type": "code",
   "execution_count": null,
   "id": "1ab54076-61c7-47a6-b43d-6aebe5a3d4d3",
   "metadata": {},
   "outputs": [],
   "source": []
  }
 ],
 "metadata": {
  "kernelspec": {
   "display_name": "Python 3 (ipykernel)",
   "language": "python",
   "name": "python3"
  },
  "language_info": {
   "codemirror_mode": {
    "name": "ipython",
    "version": 3
   },
   "file_extension": ".py",
   "mimetype": "text/x-python",
   "name": "python",
   "nbconvert_exporter": "python",
   "pygments_lexer": "ipython3",
   "version": "3.13.0"
  }
 },
 "nbformat": 4,
 "nbformat_minor": 5
}
