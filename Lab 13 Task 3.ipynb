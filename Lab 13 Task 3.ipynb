{
 "cells": [
  {
   "cell_type": "code",
   "execution_count": 3,
   "id": "57c0ba83-37ad-413c-b9ba-428e2f7542ee",
   "metadata": {},
   "outputs": [],
   "source": [
    "import random"
   ]
  },
  {
   "cell_type": "code",
   "execution_count": 4,
   "id": "6b36190a-44bc-4654-9e07-61b35fb41a25",
   "metadata": {},
   "outputs": [],
   "source": [
    "# Parameters\n",
    "TARGET = \"HHTHT\"\n",
    "POP_SIZE = 10\n",
    "MUTATION_RATE = 0.1\n",
    "MAX_GENERATIONS = 100"
   ]
  },
  {
   "cell_type": "code",
   "execution_count": 5,
   "id": "18edaebb-1b66-42c6-8aa2-bfecc5d7e8f4",
   "metadata": {},
   "outputs": [],
   "source": [
    "# Helper Functions\n",
    "def calculate_fitness(individual):\n",
    "    \"\"\"Calculate fitness as the number of matching characters with the TARGET.\"\"\"\n",
    "    return sum(1 for i, j in zip(individual, TARGET) if i == j)\n",
    "\n",
    "def mutate(individual):\n",
    "    \"\"\"Randomly mutate a chromosome with a given mutation rate.\"\"\"\n",
    "    individual = list(individual)\n",
    "    for i in range(len(individual)):\n",
    "        if random.random() < MUTATION_RATE:\n",
    "            individual[i] = random.choice(\"HT\")\n",
    "    return ''.join(individual)\n",
    "\n",
    "def crossover(parent1, parent2, crossover_point):\n",
    "    \"\"\"Perform crossover after a specific point.\"\"\"\n",
    "    return parent1[:crossover_point] + parent2[crossover_point:]"
   ]
  },
  {
   "cell_type": "code",
   "execution_count": 6,
   "id": "8ef2ebf1-4bc5-4b80-8dbe-a4fc976c2afe",
   "metadata": {},
   "outputs": [],
   "source": [
    "# Genetic Algorithm\n",
    "def genetic_algorithm():\n",
    "    # Input the initial population\n",
    "    print(f\"Enter {POP_SIZE} chromosomes of length {len(TARGET)} (using 'H' and 'T'):\")\n",
    "    population = []\n",
    "    for i in range(POP_SIZE):\n",
    "        while True:\n",
    "            chromosome = input(f\"Enter chromosome {i + 1}: \").strip().upper()\n",
    "            if len(chromosome) == len(TARGET) and all(c in \"HT\" for c in chromosome):\n",
    "                population.append(chromosome)\n",
    "                break\n",
    "            else:\n",
    "                print(f\"Invalid input! Please enter a chromosome of length {len(TARGET)} containing only 'H' and 'T'.\")\n",
    "    \n",
    "    # Run the genetic algorithm\n",
    "    for generation in range(MAX_GENERATIONS):\n",
    "        # Evaluate fitness\n",
    "        fitness_scores = [(individual, calculate_fitness(individual)) for individual in population]\n",
    "        fitness_scores.sort(key=lambda x: x[1], reverse=True)\n",
    "        \n",
    "        # Check if solution is found\n",
    "        if fitness_scores[0][1] == len(TARGET):\n",
    "            print(f\"Solution found at generation {generation}: {fitness_scores[0][0]}\")\n",
    "            return fitness_scores[0][0]\n",
    "        \n",
    "        # Selection and reproduction\n",
    "        next_generation = []\n",
    "        for i in range(0, POP_SIZE, 2):\n",
    "            if i + 1 < len(fitness_scores):\n",
    "                parent1, parent2 = fitness_scores[i][0], fitness_scores[i + 1][0]\n",
    "                # Specific crossover conditions\n",
    "                if i == 2:  # Crossover S2 and S3 (index 2 and 3) after 4th point\n",
    "                    child1 = crossover(parent1, parent2, 4)\n",
    "                    child2 = crossover(parent2, parent1, 4)\n",
    "                else:  # General crossover\n",
    "                    child1 = mutate(crossover(parent1, parent2, random.randint(1, len(parent1) - 1)))\n",
    "                    child2 = mutate(crossover(parent2, parent1, random.randint(1, len(parent2) - 1)))\n",
    "                \n",
    "                next_generation.extend([child1, child2])\n",
    "        \n",
    "        population = next_generation\n",
    "    \n",
    "    print(\"No solution found.\")\n",
    "    return None"
   ]
  },
  {
   "cell_type": "code",
   "execution_count": 7,
   "id": "165dc4ad-15cd-46e9-85d4-1fd092788bda",
   "metadata": {},
   "outputs": [
    {
     "name": "stdout",
     "output_type": "stream",
     "text": [
      "Enter 10 chromosomes of length 5 (using 'H' and 'T'):\n"
     ]
    },
    {
     "name": "stdin",
     "output_type": "stream",
     "text": [
      "Enter chromosome 1:  HHHTT\n",
      "Enter chromosome 2:  TTHHH\n",
      "Enter chromosome 3:  HTHTH\n",
      "Enter chromosome 4:  HHTTH\n",
      "Enter chromosome 5:  TTHTT\n",
      "Enter chromosome 6:  HTHHH\n",
      "Enter chromosome 7:  THTHT\n",
      "Enter chromosome 8:  HHHTH\n",
      "Enter chromosome 9:  THHHT\n",
      "Enter chromosome 10:  TTHHT\n"
     ]
    },
    {
     "name": "stdout",
     "output_type": "stream",
     "text": [
      "Solution found at generation 6: HHTHT\n"
     ]
    }
   ],
   "source": [
    "# Run Genetic Algorithm\n",
    "if __name__ == \"__main__\":\n",
    "    genetic_algorithm()\n"
   ]
  },
  {
   "cell_type": "code",
   "execution_count": null,
   "id": "17279136-b76c-4f96-927a-4635f31d2448",
   "metadata": {},
   "outputs": [],
   "source": []
  }
 ],
 "metadata": {
  "kernelspec": {
   "display_name": "Python 3 (ipykernel)",
   "language": "python",
   "name": "python3"
  },
  "language_info": {
   "codemirror_mode": {
    "name": "ipython",
    "version": 3
   },
   "file_extension": ".py",
   "mimetype": "text/x-python",
   "name": "python",
   "nbconvert_exporter": "python",
   "pygments_lexer": "ipython3",
   "version": "3.11.0"
  }
 },
 "nbformat": 4,
 "nbformat_minor": 5
}
