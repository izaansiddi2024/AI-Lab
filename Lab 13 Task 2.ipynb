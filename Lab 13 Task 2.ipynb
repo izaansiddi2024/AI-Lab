{
 "cells": [
  {
   "cell_type": "code",
   "execution_count": 1,
   "id": "3c0c389e-2c4e-434c-91dd-bbc6b2e55aad",
   "metadata": {},
   "outputs": [],
   "source": [
    "import random"
   ]
  },
  {
   "cell_type": "code",
   "execution_count": 2,
   "id": "1466ec0b-c665-4e02-bef3-63be5e78ae08",
   "metadata": {},
   "outputs": [],
   "source": [
    "# Parameters\n",
    "TARGET = \"HHTHT\"\n",
    "POP_SIZE = 10\n",
    "MUTATION_RATE = 0.1\n",
    "MAX_GENERATIONS = 100"
   ]
  },
  {
   "cell_type": "code",
   "execution_count": 3,
   "id": "72eef01b-f602-4fed-8b2e-4eecec147b37",
   "metadata": {},
   "outputs": [],
   "source": [
    "# Helper Functions\n",
    "def generate_individual(length):\n",
    "    return ''.join(random.choice(\"HT\") for _ in range(length))\n",
    "\n",
    "def calculate_fitness(individual):\n",
    "    return sum(1 for i, j in zip(individual, TARGET) if i == j)\n",
    "\n",
    "def mutate(individual):\n",
    "    individual = list(individual)\n",
    "    for i in range(len(individual)):\n",
    "        if random.random() < MUTATION_RATE:\n",
    "            individual[i] = random.choice(\"HT\")\n",
    "    return ''.join(individual)\n",
    "\n",
    "def crossover(parent1, parent2, crossover_point):\n",
    "    \"\"\"Perform crossover after a specific point.\"\"\"\n",
    "    return parent1[:crossover_point] + parent2[crossover_point:]"
   ]
  },
  {
   "cell_type": "code",
   "execution_count": 4,
   "id": "f151b046-282f-405c-a4b3-3a504bb048e6",
   "metadata": {},
   "outputs": [],
   "source": [
    "# Genetic Algorithm\n",
    "def genetic_algorithm():\n",
    "    # Initialize population\n",
    "    population = [generate_individual(len(TARGET)) for _ in range(POP_SIZE)]\n",
    "    for generation in range(MAX_GENERATIONS):\n",
    "        # Evaluate fitness\n",
    "        fitness_scores = [(individual, calculate_fitness(individual)) for individual in population]\n",
    "        fitness_scores.sort(key=lambda x: x[1], reverse=True)\n",
    "        \n",
    "        # Check if solution is found\n",
    "        if fitness_scores[0][1] == len(TARGET):\n",
    "            print(f\"Solution found at generation {generation}: {fitness_scores[0][0]}\")\n",
    "            return fitness_scores[0][0]\n",
    "        \n",
    "        # Selection and reproduction\n",
    "        next_generation = []\n",
    "        # Pair-specific crossovers\n",
    "        for i in range(0, POP_SIZE, 2):\n",
    "            if i + 1 < len(fitness_scores):\n",
    "                parent1, parent2 = fitness_scores[i][0], fitness_scores[i + 1][0]\n",
    "                # Specific crossover conditions\n",
    "                if i == 2:  # Crossover S2 (index 2) and S3 (index 3) after 4th point\n",
    "                    child1 = crossover(parent1, parent2, 4)\n",
    "                    child2 = crossover(parent2, parent1, 4)\n",
    "                elif i == 0:  # Example: crossover S1 and S4 (index 0 and 3)\n",
    "                    child1 = crossover(parent1, parent2, 3)\n",
    "                    child2 = crossover(parent2, parent1, 3)\n",
    "                else:  # General crossover for other pairs\n",
    "                    child1 = mutate(crossover(parent1, parent2, random.randint(1, len(parent1) - 1)))\n",
    "                    child2 = mutate(crossover(parent2, parent1, random.randint(1, len(parent2) - 1)))\n",
    "                \n",
    "                next_generation.extend([child1, child2])\n",
    "        \n",
    "        population = next_generation\n",
    "    \n",
    "    print(\"No solution found.\")\n",
    "    return None"
   ]
  },
  {
   "cell_type": "code",
   "execution_count": 5,
   "id": "fe7e60bb-32db-4579-b236-0b84ee51e93c",
   "metadata": {},
   "outputs": [
    {
     "name": "stdout",
     "output_type": "stream",
     "text": [
      "Solution found at generation 4: HHTHT\n"
     ]
    }
   ],
   "source": [
    "# Run Genetic Algorithm\n",
    "if __name__ == \"__main__\":\n",
    "    genetic_algorithm()"
   ]
  },
  {
   "cell_type": "code",
   "execution_count": null,
   "id": "a80f129e-4dcd-4aca-80bb-5890864e9b92",
   "metadata": {},
   "outputs": [],
   "source": []
  }
 ],
 "metadata": {
  "kernelspec": {
   "display_name": "Python 3 (ipykernel)",
   "language": "python",
   "name": "python3"
  },
  "language_info": {
   "codemirror_mode": {
    "name": "ipython",
    "version": 3
   },
   "file_extension": ".py",
   "mimetype": "text/x-python",
   "name": "python",
   "nbconvert_exporter": "python",
   "pygments_lexer": "ipython3",
   "version": "3.11.0"
  }
 },
 "nbformat": 4,
 "nbformat_minor": 5
}
