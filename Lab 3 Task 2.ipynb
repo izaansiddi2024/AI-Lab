{
 "cells": [
  {
   "cell_type": "code",
   "execution_count": 1,
   "id": "78bc6abd-9639-4b7c-8fda-14ec89dbef0a",
   "metadata": {},
   "outputs": [],
   "source": [
    "import numpy as np\n",
    "from collections import Counter\n"
   ]
  },
  {
   "cell_type": "code",
   "execution_count": 2,
   "id": "ae71a1df-62c5-4313-9054-71326155545d",
   "metadata": {},
   "outputs": [],
   "source": [
    "# Training samples with features (X1 - Acid durability, X2 - Strength) and labels (Y - Classification)\n",
    "data = [\n",
    "    {\"X1\": 7, \"X2\": 7, \"Y\": \"Bad\"},\n",
    "    {\"X1\": 7, \"X2\": 4, \"Y\": \"Bad\"},\n",
    "    {\"X1\": 3, \"X2\": 4, \"Y\": \"Good\"},\n",
    "    {\"X1\": 1, \"X2\": 4, \"Y\": \"Good\"}\n",
    "]\n"
   ]
  },
  {
   "cell_type": "code",
   "execution_count": 3,
   "id": "6658656b-03fb-4bea-af36-b7cd41eb32a7",
   "metadata": {},
   "outputs": [],
   "source": [
    "# Query instance\n",
    "query_instance = np.array([3, 7])\n"
   ]
  },
  {
   "cell_type": "code",
   "execution_count": 4,
   "id": "14121faf-ce6c-4d83-8437-7c64b86e20a9",
   "metadata": {},
   "outputs": [],
   "source": [
    "# Function to calculate Euclidean distance\n",
    "def euclidean_distance(point1, point2):\n",
    "    return np.sqrt(np.sum((point1 - point2) ** 2))\n"
   ]
  },
  {
   "cell_type": "code",
   "execution_count": 5,
   "id": "015aa402-3f73-4a01-9420-70d6a9d0c5d9",
   "metadata": {},
   "outputs": [],
   "source": [
    "# Calculate distances from the query instance to each training sample\n",
    "distances = []\n",
    "for sample in data:\n",
    "    training_instance = np.array([sample[\"X1\"], sample[\"X2\"]])\n",
    "    distance = euclidean_distance(query_instance, training_instance)\n",
    "    distances.append((distance, sample[\"Y\"]))\n"
   ]
  },
  {
   "cell_type": "code",
   "execution_count": 6,
   "id": "64166797-cada-4997-a96c-84fb73871f96",
   "metadata": {},
   "outputs": [],
   "source": [
    "# Sort distances and select the K=3 nearest neighbors\n",
    "k = 3\n",
    "sorted_distances = sorted(distances, key=lambda x: x[0])\n",
    "nearest_neighbors = sorted_distances[:k]\n"
   ]
  },
  {
   "cell_type": "code",
   "execution_count": 8,
   "id": "82f8afff-0daa-43cd-91ad-9f5e719a34b9",
   "metadata": {},
   "outputs": [
    {
     "name": "stdout",
     "output_type": "stream",
     "text": [
      "Distances from query instance to each training sample:\n",
      "Sample 1: Distance = 4.00, Classification = Bad\n",
      "Sample 2: Distance = 5.00, Classification = Bad\n",
      "Sample 3: Distance = 3.00, Classification = Good\n",
      "Sample 4: Distance = 3.61, Classification = Good\n",
      "\n",
      "K nearest neighbors:\n",
      "Neighbor 1: Distance = 3.00, Classification = Good\n",
      "Neighbor 2: Distance = 3.61, Classification = Good\n",
      "Neighbor 3: Distance = 4.00, Classification = Bad\n"
     ]
    }
   ],
   "source": [
    "# Output the distances and the nearest neighbors\n",
    "print(\"Distances from query instance to each training sample:\")\n",
    "for i, (distance, label) in enumerate(distances):\n",
    "    print(f\"Sample {i+1}: Distance = {distance:.2f}, Classification = {label}\")\n",
    "\n",
    "print(\"\\nK nearest neighbors:\")\n",
    "for i, (distance, label) in enumerate(nearest_neighbors):\n",
    "    print(f\"Neighbor {i+1}: Distance = {distance:.2f}, Classification = {label}\")\n"
   ]
  },
  {
   "cell_type": "code",
   "execution_count": 9,
   "id": "b42d033b-da45-4951-b8a6-30649e517963",
   "metadata": {},
   "outputs": [
    {
     "name": "stdout",
     "output_type": "stream",
     "text": [
      "\n",
      "Predicted classification for the query instance: Good\n"
     ]
    }
   ],
   "source": [
    "# Determine the majority class among the nearest neighbors\n",
    "neighbor_classes = [label for _, label in nearest_neighbors]\n",
    "predicted_class = Counter(neighbor_classes).most_common(1)[0][0]\n",
    "\n",
    "print(f\"\\nPredicted classification for the query instance: {predicted_class}\")\n"
   ]
  },
  {
   "cell_type": "code",
   "execution_count": null,
   "id": "b9fc24e2-6079-4685-a64a-39aecebaffff",
   "metadata": {},
   "outputs": [],
   "source": []
  }
 ],
 "metadata": {
  "kernelspec": {
   "display_name": "Python 3 (ipykernel)",
   "language": "python",
   "name": "python3"
  },
  "language_info": {
   "codemirror_mode": {
    "name": "ipython",
    "version": 3
   },
   "file_extension": ".py",
   "mimetype": "text/x-python",
   "name": "python",
   "nbconvert_exporter": "python",
   "pygments_lexer": "ipython3",
   "version": "3.13.0"
  }
 },
 "nbformat": 4,
 "nbformat_minor": 5
}
