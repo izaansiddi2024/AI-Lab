{
 "cells": [
  {
   "cell_type": "code",
   "execution_count": 1,
   "id": "f431ade8-4876-4da4-af99-eae10d4275a4",
   "metadata": {},
   "outputs": [],
   "source": [
    "import random"
   ]
  },
  {
   "cell_type": "code",
   "execution_count": 2,
   "id": "5de59d6f-f1b5-457f-b181-5bfeba475547",
   "metadata": {},
   "outputs": [],
   "source": [
    "# Parameters\n",
    "TARGET = \"HHTHT\"\n",
    "POP_SIZE = 10\n",
    "MUTATION_RATE = 0.1\n",
    "MAX_GENERATIONS = 100"
   ]
  },
  {
   "cell_type": "code",
   "execution_count": 3,
   "id": "8a92c6b8-73dd-40f4-8887-83cd6d8b7cf4",
   "metadata": {},
   "outputs": [],
   "source": [
    "# Helper Functions\n",
    "def generate_individual(length):\n",
    "    return ''.join(random.choice(\"HT\") for _ in range(length))\n",
    "\n",
    "def calculate_fitness(individual):\n",
    "    return sum(1 for i, j in zip(individual, TARGET) if i == j)\n",
    "\n",
    "def mutate(individual):\n",
    "    individual = list(individual)\n",
    "    for i in range(len(individual)):\n",
    "        if random.random() < MUTATION_RATE:\n",
    "            individual[i] = random.choice(\"HT\")\n",
    "    return ''.join(individual)\n",
    "\n",
    "def crossover(parent1, parent2):\n",
    "    split = random.randint(0, len(parent1) - 1)\n",
    "    child = parent1[:split] + parent2[split:]\n",
    "    return child"
   ]
  },
  {
   "cell_type": "code",
   "execution_count": 4,
   "id": "b74c3f36-68a6-416b-a134-dd5a5f2c46b8",
   "metadata": {},
   "outputs": [],
   "source": [
    "# Genetic Algorithm\n",
    "def genetic_algorithm():\n",
    "    # Initialize population\n",
    "    population = [generate_individual(len(TARGET)) for _ in range(POP_SIZE)]\n",
    "    for generation in range(MAX_GENERATIONS):\n",
    "        # Evaluate fitness\n",
    "        fitness_scores = [(individual, calculate_fitness(individual)) for individual in population]\n",
    "        fitness_scores.sort(key=lambda x: x[1], reverse=True)\n",
    "        \n",
    "        # Check if solution is found\n",
    "        if fitness_scores[0][1] == len(TARGET):\n",
    "            print(f\"Solution found at generation {generation}: {fitness_scores[0][0]}\")\n",
    "            return fitness_scores[0][0]\n",
    "        \n",
    "        # Selection and reproduction\n",
    "        next_generation = []\n",
    "        for _ in range(POP_SIZE // 2):\n",
    "            parent1, parent2 = random.choices([i[0] for i in fitness_scores[:POP_SIZE // 2]], k=2)\n",
    "            child1 = mutate(crossover(parent1, parent2))\n",
    "            child2 = mutate(crossover(parent2, parent1))\n",
    "            next_generation.extend([child1, child2])\n",
    "        \n",
    "        population = next_generation\n",
    "    \n",
    "    print(\"No solution found.\")\n",
    "    return None"
   ]
  },
  {
   "cell_type": "code",
   "execution_count": 5,
   "id": "76b6261e-757d-4ea4-ae75-16b70ded85b2",
   "metadata": {},
   "outputs": [
    {
     "name": "stdout",
     "output_type": "stream",
     "text": [
      "Solution found at generation 0: HHTHT\n"
     ]
    }
   ],
   "source": [
    "# Run Genetic Algorithm\n",
    "if __name__ == \"__main__\":\n",
    "    genetic_algorithm()"
   ]
  },
  {
   "cell_type": "code",
   "execution_count": null,
   "id": "66fd9676-a2a1-46b0-a4a8-af4b8f9bb207",
   "metadata": {},
   "outputs": [],
   "source": []
  }
 ],
 "metadata": {
  "kernelspec": {
   "display_name": "Python 3 (ipykernel)",
   "language": "python",
   "name": "python3"
  },
  "language_info": {
   "codemirror_mode": {
    "name": "ipython",
    "version": 3
   },
   "file_extension": ".py",
   "mimetype": "text/x-python",
   "name": "python",
   "nbconvert_exporter": "python",
   "pygments_lexer": "ipython3",
   "version": "3.11.0"
  }
 },
 "nbformat": 4,
 "nbformat_minor": 5
}
