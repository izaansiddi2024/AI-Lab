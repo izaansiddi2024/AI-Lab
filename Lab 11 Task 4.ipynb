{
 "cells": [
  {
   "cell_type": "code",
   "execution_count": 7,
   "id": "41f62e40-7ebc-47dd-a996-c63813734114",
   "metadata": {},
   "outputs": [],
   "source": [
    "# Graph representation as an adjacency list\n",
    "graph = {\n",
    "    'A': ['B', 'C', 'E'],\n",
    "    'B': ['D'],\n",
    "    'C': ['G'],\n",
    "    'E': ['F'],\n",
    "    'F': ['G'],\n",
    "    'D': [],\n",
    "    'G': []\n",
    "}\n",
    "\n",
    "def dfs(graph, start, goal):\n",
    "    open_list = [start]  # Stack for DFS\n",
    "    closed_list = []     # List for visited nodes\n",
    "    \n",
    "    while open_list:\n",
    "        current = open_list.pop()\n",
    "        closed_list.append(current)\n",
    "        \n",
    "        if current == goal:\n",
    "            print(\"Goal reached!\")\n",
    "            break\n",
    "        \n",
    "        for neighbor in reversed(graph[current]):  # Reverse to explore neighbors in order\n",
    "            if neighbor not in closed_list and neighbor not in open_list:\n",
    "                open_list.append(neighbor)\n",
    "        \n",
    "        # Display open and closed lists\n",
    "        print(f\"Open List: {open_list}\")\n",
    "        print(f\"Closed List: {closed_list}\")\n",
    "        print(\"------------------\")\n",
    "    \n",
    "    return closed_list"
   ]
  },
  {
   "cell_type": "code",
   "execution_count": 9,
   "id": "e6fb3c54-f87e-4925-ae75-435bffc938eb",
   "metadata": {},
   "outputs": [
    {
     "name": "stdin",
     "output_type": "stream",
     "text": [
      "Enter the initial state:  a\n",
      "Enter the final state:  c\n"
     ]
    },
    {
     "name": "stdout",
     "output_type": "stream",
     "text": [
      "Open List: ['E', 'C', 'B']\n",
      "Closed List: ['A']\n",
      "------------------\n",
      "Open List: ['E', 'C', 'D']\n",
      "Closed List: ['A', 'B']\n",
      "------------------\n",
      "Open List: ['E', 'C']\n",
      "Closed List: ['A', 'B', 'D']\n",
      "------------------\n",
      "Goal reached!\n",
      "Final Closed List (Path Explored): ['A', 'B', 'D', 'C']\n"
     ]
    }
   ],
   "source": [
    "# User input for start and goal nodes\n",
    "start_node = input(\"Enter the initial state: \").strip().upper()\n",
    "goal_node = input(\"Enter the final state: \").strip().upper()\n",
    "\n",
    "# Call the DFS function\n",
    "result = dfs(graph, start_node, goal_node)\n",
    "\n",
    "print(\"Final Closed List (Path Explored):\", result)"
   ]
  },
  {
   "cell_type": "code",
   "execution_count": null,
   "id": "b93e598a-07a2-4b4d-97f2-6a13363e2729",
   "metadata": {},
   "outputs": [],
   "source": []
  }
 ],
 "metadata": {
  "kernelspec": {
   "display_name": "Python 3 (ipykernel)",
   "language": "python",
   "name": "python3"
  },
  "language_info": {
   "codemirror_mode": {
    "name": "ipython",
    "version": 3
   },
   "file_extension": ".py",
   "mimetype": "text/x-python",
   "name": "python",
   "nbconvert_exporter": "python",
   "pygments_lexer": "ipython3",
   "version": "3.12.7"
  }
 },
 "nbformat": 4,
 "nbformat_minor": 5
}
