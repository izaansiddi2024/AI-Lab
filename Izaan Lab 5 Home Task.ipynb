{
 "cells": [
  {
   "cell_type": "code",
   "execution_count": 1,
   "id": "0656188e-2586-4997-81fc-c132ed0ae695",
   "metadata": {},
   "outputs": [],
   "source": [
    "# Import required libraries\n",
    "import numpy as np\n",
    "from sklearn.tree import DecisionTreeClassifier\n",
    "from sklearn.metrics import confusion_matrix, accuracy_score"
   ]
  },
  {
   "cell_type": "code",
   "execution_count": 2,
   "id": "7f2e2655-f41f-4179-8330-e25292ff6f08",
   "metadata": {},
   "outputs": [],
   "source": [
    "# Step 1: Create the dataset based on the given table\n",
    "genre = np.array([\"Action\", \"Comedy\", \"Drama\", \"Action\", \"Horror\", \"Drama\", \"Action\",\n",
    "                  \"Comedy\", \"Horror\", \"Action\", \"Comedy\", \"Drama\", \"Horror\", \"Drama\"])\n",
    "watched = np.array([\"Yes\", \"No\", \"Yes\", \"No\", \"Yes\", \"No\", \"Yes\", \n",
    "                    \"Yes\", \"No\", \"Yes\", \"Yes\", \"No\", \"Yes\", \"No\"])\n",
    "classification = np.array([\"Good\", \"Bad\", \"Good\", \"Bad\", \"Good\", \"Bad\", \"Good\", \n",
    "                           \"Good\", \"Bad\", \"Good\", \"Good\", \"Bad\", \"Good\", \"Bad\"])\n"
   ]
  },
  {
   "cell_type": "code",
   "execution_count": 3,
   "id": "d065d85b-9756-4a55-95c6-b5401ffaef87",
   "metadata": {},
   "outputs": [],
   "source": [
    "# Step 2: Encode categorical data (Gender, Watched, and Classification)\n",
    "# Encoding 'Genre' column: Action -> 0, Comedy -> 1, Drama -> 2, Horror -> 3\n",
    "genre_encoded = np.where(genre == 'Action', 0, np.where(genre == 'Comedy', 1, np.where(genre == 'Drama', 2, 3)))\n",
    "\n",
    "# Encoding 'Watched' column: Yes -> 1, No -> 0\n",
    "watched_encoded = np.where(watched == 'Yes', 1, 0)\n",
    "\n",
    "# Encoding 'Classification' column: Good -> 1, Bad -> 0\n",
    "classification_encoded = np.where(classification == 'Good', 1, 0)"
   ]
  },
  {
   "cell_type": "code",
   "execution_count": 4,
   "id": "bdaf710c-c279-4221-9b80-d83f4547013b",
   "metadata": {},
   "outputs": [],
   "source": [
    "# Step 3: Combine features into a single matrix (Genre, Watched)\n",
    "features = np.column_stack((genre_encoded, watched_encoded))"
   ]
  },
  {
   "cell_type": "code",
   "execution_count": 5,
   "id": "f7e1815c-502f-4cd2-a164-b582987b08d9",
   "metadata": {},
   "outputs": [
    {
     "data": {
      "text/html": [
       "<style>#sk-container-id-1 {color: black;background-color: white;}#sk-container-id-1 pre{padding: 0;}#sk-container-id-1 div.sk-toggleable {background-color: white;}#sk-container-id-1 label.sk-toggleable__label {cursor: pointer;display: block;width: 100%;margin-bottom: 0;padding: 0.3em;box-sizing: border-box;text-align: center;}#sk-container-id-1 label.sk-toggleable__label-arrow:before {content: \"▸\";float: left;margin-right: 0.25em;color: #696969;}#sk-container-id-1 label.sk-toggleable__label-arrow:hover:before {color: black;}#sk-container-id-1 div.sk-estimator:hover label.sk-toggleable__label-arrow:before {color: black;}#sk-container-id-1 div.sk-toggleable__content {max-height: 0;max-width: 0;overflow: hidden;text-align: left;background-color: #f0f8ff;}#sk-container-id-1 div.sk-toggleable__content pre {margin: 0.2em;color: black;border-radius: 0.25em;background-color: #f0f8ff;}#sk-container-id-1 input.sk-toggleable__control:checked~div.sk-toggleable__content {max-height: 200px;max-width: 100%;overflow: auto;}#sk-container-id-1 input.sk-toggleable__control:checked~label.sk-toggleable__label-arrow:before {content: \"▾\";}#sk-container-id-1 div.sk-estimator input.sk-toggleable__control:checked~label.sk-toggleable__label {background-color: #d4ebff;}#sk-container-id-1 div.sk-label input.sk-toggleable__control:checked~label.sk-toggleable__label {background-color: #d4ebff;}#sk-container-id-1 input.sk-hidden--visually {border: 0;clip: rect(1px 1px 1px 1px);clip: rect(1px, 1px, 1px, 1px);height: 1px;margin: -1px;overflow: hidden;padding: 0;position: absolute;width: 1px;}#sk-container-id-1 div.sk-estimator {font-family: monospace;background-color: #f0f8ff;border: 1px dotted black;border-radius: 0.25em;box-sizing: border-box;margin-bottom: 0.5em;}#sk-container-id-1 div.sk-estimator:hover {background-color: #d4ebff;}#sk-container-id-1 div.sk-parallel-item::after {content: \"\";width: 100%;border-bottom: 1px solid gray;flex-grow: 1;}#sk-container-id-1 div.sk-label:hover label.sk-toggleable__label {background-color: #d4ebff;}#sk-container-id-1 div.sk-serial::before {content: \"\";position: absolute;border-left: 1px solid gray;box-sizing: border-box;top: 0;bottom: 0;left: 50%;z-index: 0;}#sk-container-id-1 div.sk-serial {display: flex;flex-direction: column;align-items: center;background-color: white;padding-right: 0.2em;padding-left: 0.2em;position: relative;}#sk-container-id-1 div.sk-item {position: relative;z-index: 1;}#sk-container-id-1 div.sk-parallel {display: flex;align-items: stretch;justify-content: center;background-color: white;position: relative;}#sk-container-id-1 div.sk-item::before, #sk-container-id-1 div.sk-parallel-item::before {content: \"\";position: absolute;border-left: 1px solid gray;box-sizing: border-box;top: 0;bottom: 0;left: 50%;z-index: -1;}#sk-container-id-1 div.sk-parallel-item {display: flex;flex-direction: column;z-index: 1;position: relative;background-color: white;}#sk-container-id-1 div.sk-parallel-item:first-child::after {align-self: flex-end;width: 50%;}#sk-container-id-1 div.sk-parallel-item:last-child::after {align-self: flex-start;width: 50%;}#sk-container-id-1 div.sk-parallel-item:only-child::after {width: 0;}#sk-container-id-1 div.sk-dashed-wrapped {border: 1px dashed gray;margin: 0 0.4em 0.5em 0.4em;box-sizing: border-box;padding-bottom: 0.4em;background-color: white;}#sk-container-id-1 div.sk-label label {font-family: monospace;font-weight: bold;display: inline-block;line-height: 1.2em;}#sk-container-id-1 div.sk-label-container {text-align: center;}#sk-container-id-1 div.sk-container {/* jupyter's `normalize.less` sets `[hidden] { display: none; }` but bootstrap.min.css set `[hidden] { display: none !important; }` so we also need the `!important` here to be able to override the default hidden behavior on the sphinx rendered scikit-learn.org. See: https://github.com/scikit-learn/scikit-learn/issues/21755 */display: inline-block !important;position: relative;}#sk-container-id-1 div.sk-text-repr-fallback {display: none;}</style><div id=\"sk-container-id-1\" class=\"sk-top-container\"><div class=\"sk-text-repr-fallback\"><pre>DecisionTreeClassifier()</pre><b>In a Jupyter environment, please rerun this cell to show the HTML representation or trust the notebook. <br />On GitHub, the HTML representation is unable to render, please try loading this page with nbviewer.org.</b></div><div class=\"sk-container\" hidden><div class=\"sk-item\"><div class=\"sk-estimator sk-toggleable\"><input class=\"sk-toggleable__control sk-hidden--visually\" id=\"sk-estimator-id-1\" type=\"checkbox\" checked><label for=\"sk-estimator-id-1\" class=\"sk-toggleable__label sk-toggleable__label-arrow\">DecisionTreeClassifier</label><div class=\"sk-toggleable__content\"><pre>DecisionTreeClassifier()</pre></div></div></div></div></div>"
      ],
      "text/plain": [
       "DecisionTreeClassifier()"
      ]
     },
     "execution_count": 5,
     "metadata": {},
     "output_type": "execute_result"
    }
   ],
   "source": [
    "# Step 4: Initialize and train the Decision Tree Classifier\n",
    "classifier = DecisionTreeClassifier()\n",
    "classifier.fit(features, classification_encoded)"
   ]
  },
  {
   "cell_type": "code",
   "execution_count": 7,
   "id": "aea80669-36a9-4aaf-8905-de5bf69e0114",
   "metadata": {},
   "outputs": [],
   "source": [
    "# Step 5: Predict the class for a new entry (example entry)\n",
    "new_entry = np.array([[0, 1]])  # Example entry: Genre = Action (0), Watched = Yes (1)\n",
    "prediction = classifier.predict(new_entry)\n",
    "\n",
    "# Convert the numeric prediction back to the original label ('Good' or 'Bad')\n",
    "predicted_class = 'Good' if prediction == 1 else 'Bad'\n"
   ]
  },
  {
   "cell_type": "code",
   "execution_count": 13,
   "id": "aa171e6b-ffe3-4b5b-9025-2ea1e197fd27",
   "metadata": {},
   "outputs": [
    {
     "name": "stdout",
     "output_type": "stream",
     "text": [
      "Predicted Classification for new entry [[0 1]]: Good\n"
     ]
    }
   ],
   "source": [
    "# Step 6: Output the prediction\n",
    "print(f\"Predicted Classification for new entry {new_entry}: {predicted_class}\")"
   ]
  },
  {
   "cell_type": "code",
   "execution_count": 14,
   "id": "154c770c-9aeb-4e36-8ac9-728e7d4cf853",
   "metadata": {},
   "outputs": [],
   "source": [
    "# Step 7: Evaluate the model using confusion matrix and accuracy score\n",
    "# Predict on the same dataset (just for evaluation)\n",
    "predictions = classifier.predict(features)\n",
    "conf_matrix = confusion_matrix(classification_encoded, predictions)\n",
    "accuracy = accuracy_score(classification_encoded, predictions)"
   ]
  },
  {
   "cell_type": "code",
   "execution_count": 15,
   "id": "27056d75-3dbc-4b23-8b82-af2653bbcc3b",
   "metadata": {},
   "outputs": [
    {
     "name": "stdout",
     "output_type": "stream",
     "text": [
      "\n",
      "Confusion Matrix:\n",
      "[[6 0]\n",
      " [0 8]]\n",
      "\n",
      "Accuracy Score: 100.00%\n"
     ]
    }
   ],
   "source": [
    "# Step 8: Print the evaluation results\n",
    "print(\"\\nConfusion Matrix:\")\n",
    "print(conf_matrix)\n",
    "print(f\"\\nAccuracy Score: {accuracy * 100:.2f}%\")"
   ]
  },
  {
   "cell_type": "code",
   "execution_count": null,
   "id": "92868c39-1a1a-4cc5-80f0-969cda0658bb",
   "metadata": {},
   "outputs": [],
   "source": []
  }
 ],
 "metadata": {
  "kernelspec": {
   "display_name": "Python 3 (ipykernel)",
   "language": "python",
   "name": "python3"
  },
  "language_info": {
   "codemirror_mode": {
    "name": "ipython",
    "version": 3
   },
   "file_extension": ".py",
   "mimetype": "text/x-python",
   "name": "python",
   "nbconvert_exporter": "python",
   "pygments_lexer": "ipython3",
   "version": "3.11.7"
  }
 },
 "nbformat": 4,
 "nbformat_minor": 5
}
