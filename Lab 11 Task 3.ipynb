{
 "cells": [
  {
   "cell_type": "code",
   "execution_count": 5,
   "id": "6a7b81c8-534f-4e74-aa6a-41f1f6e9b67d",
   "metadata": {},
   "outputs": [],
   "source": [
    "# Graph representation as an adjacency list\n",
    "graph = {\n",
    "    'A': ['B', 'C', 'E'],\n",
    "    'B': ['D'],\n",
    "    'C': ['G'],\n",
    "    'E': ['F'],\n",
    "    'F': ['G'],\n",
    "    'D': [],\n",
    "    'G': []\n",
    "}\n",
    "\n",
    "def dfs(graph, start, goal):\n",
    "    open_list = [start]  # Stack for DFS\n",
    "    closed_list = []     # List for visited nodes\n",
    "    \n",
    "    while open_list:\n",
    "        current = open_list.pop()\n",
    "        closed_list.append(current)\n",
    "        \n",
    "        if current == goal:\n",
    "            print(\"Goal reached!\")\n",
    "            break\n",
    "        \n",
    "        for neighbor in reversed(graph[current]):  # Reverse to explore neighbors in order\n",
    "            if neighbor not in closed_list and neighbor not in open_list:\n",
    "                open_list.append(neighbor)\n",
    "        \n",
    "        # Display open and closed lists\n",
    "        print(f\"Open List: {open_list}\")\n",
    "        print(f\"Closed List: {closed_list}\")\n",
    "        print(\"------------------\")\n",
    "    \n",
    "    return closed_list"
   ]
  },
  {
   "cell_type": "code",
   "execution_count": 7,
   "id": "2ebf9759-a8f1-4638-8c15-81dd8bfa234c",
   "metadata": {},
   "outputs": [
    {
     "name": "stdout",
     "output_type": "stream",
     "text": [
      "Open List: ['E', 'C', 'B']\n",
      "Closed List: ['A']\n",
      "------------------\n",
      "Open List: ['E', 'C', 'D']\n",
      "Closed List: ['A', 'B']\n",
      "------------------\n",
      "Open List: ['E', 'C']\n",
      "Closed List: ['A', 'B', 'D']\n",
      "------------------\n",
      "Open List: ['E', 'G']\n",
      "Closed List: ['A', 'B', 'D', 'C']\n",
      "------------------\n",
      "Goal reached!\n",
      "Final Closed List (Path Explored): ['A', 'B', 'D', 'C', 'G']\n"
     ]
    }
   ],
   "source": [
    "# Start DFS\n",
    "start_node = 'A'\n",
    "goal_node = 'G'\n",
    "\n",
    "result = dfs(graph, start_node, goal_node)\n",
    "\n",
    "print(\"Final Closed List (Path Explored):\", result)"
   ]
  },
  {
   "cell_type": "code",
   "execution_count": null,
   "id": "575271a6-48bd-4a97-bcaf-60a7fa6db9fd",
   "metadata": {},
   "outputs": [],
   "source": []
  }
 ],
 "metadata": {
  "kernelspec": {
   "display_name": "Python 3 (ipykernel)",
   "language": "python",
   "name": "python3"
  },
  "language_info": {
   "codemirror_mode": {
    "name": "ipython",
    "version": 3
   },
   "file_extension": ".py",
   "mimetype": "text/x-python",
   "name": "python",
   "nbconvert_exporter": "python",
   "pygments_lexer": "ipython3",
   "version": "3.12.7"
  }
 },
 "nbformat": 4,
 "nbformat_minor": 5
}
