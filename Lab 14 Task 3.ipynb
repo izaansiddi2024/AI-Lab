{
 "cells": [
  {
   "cell_type": "code",
   "execution_count": 1,
   "id": "7fa30310-273b-4a20-92cd-c50f6cdff89e",
   "metadata": {},
   "outputs": [],
   "source": [
    "class Employee:\n",
    "    # Class variable to keep track of the total number of employees\n",
    "    employee_count = 0\n",
    "\n",
    "    def __init__(self, empName, empID, salary):\n",
    "        # Initialize employee parameters\n",
    "        self.empName = empName\n",
    "        self.empID = empID\n",
    "        self.salary = salary\n",
    "        # Increment the employee count whenever a new employee is created\n",
    "        Employee.employee_count += 1\n",
    "\n",
    "    @staticmethod\n",
    "    def displayCount():\n",
    "        \"\"\"Display the total number of employees\"\"\"\n",
    "        print(f\"Total Number of Employees: {Employee.employee_count}\")\n",
    "\n",
    "    def displayEmployee(self):\n",
    "        \"\"\"Display the details of the employee\"\"\"\n",
    "        print(f\"Employee Name: {self.empName}\")\n",
    "        print(f\"Employee ID: {self.empID}\")\n",
    "        print(f\"Salary: {self.salary}\")"
   ]
  },
  {
   "cell_type": "code",
   "execution_count": 2,
   "id": "6be66b0b-d5bb-4ed1-9a1b-443cc0a6237b",
   "metadata": {},
   "outputs": [],
   "source": [
    "# Example usage\n",
    "# Creating instances of Employee\n",
    "emp1 = Employee(\"Alice\", \"E001\", 50000)\n",
    "emp2 = Employee(\"Bob\", \"E002\", 60000)\n",
    "emp3 = Employee(\"Charlie\", \"E003\", 55000)"
   ]
  },
  {
   "cell_type": "code",
   "execution_count": 3,
   "id": "81c83807-de4f-4138-a892-271b534ce143",
   "metadata": {},
   "outputs": [
    {
     "name": "stdout",
     "output_type": "stream",
     "text": [
      "Employee Name: Alice\n",
      "Employee ID: E001\n",
      "Salary: 50000\n",
      "---\n",
      "Employee Name: Bob\n",
      "Employee ID: E002\n",
      "Salary: 60000\n",
      "---\n",
      "Employee Name: Charlie\n",
      "Employee ID: E003\n",
      "Salary: 55000\n",
      "---\n"
     ]
    }
   ],
   "source": [
    "# Display employee details\n",
    "emp1.displayEmployee()\n",
    "print(\"---\")\n",
    "emp2.displayEmployee()\n",
    "print(\"---\")\n",
    "emp3.displayEmployee()\n",
    "print(\"---\")"
   ]
  },
  {
   "cell_type": "code",
   "execution_count": 4,
   "id": "58137124-c5fb-4d8c-bde2-b4f73d426172",
   "metadata": {},
   "outputs": [
    {
     "name": "stdout",
     "output_type": "stream",
     "text": [
      "Total Number of Employees: 3\n"
     ]
    }
   ],
   "source": [
    "# Display total number of employees\n",
    "Employee.displayCount()"
   ]
  },
  {
   "cell_type": "code",
   "execution_count": null,
   "id": "1f73a39d-d0f2-4d90-82f7-6f14b05b0643",
   "metadata": {},
   "outputs": [],
   "source": []
  }
 ],
 "metadata": {
  "kernelspec": {
   "display_name": "Python 3 (ipykernel)",
   "language": "python",
   "name": "python3"
  },
  "language_info": {
   "codemirror_mode": {
    "name": "ipython",
    "version": 3
   },
   "file_extension": ".py",
   "mimetype": "text/x-python",
   "name": "python",
   "nbconvert_exporter": "python",
   "pygments_lexer": "ipython3",
   "version": "3.11.0"
  }
 },
 "nbformat": 4,
 "nbformat_minor": 5
}
