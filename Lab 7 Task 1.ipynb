{
 "cells": [
  {
   "cell_type": "code",
   "execution_count": 5,
   "id": "8fb32d90-8eb8-459a-907b-365e6100e3bf",
   "metadata": {},
   "outputs": [],
   "source": [
    "import pandas as pd"
   ]
  },
  {
   "cell_type": "code",
   "execution_count": 6,
   "id": "2dd36bc3-10ed-498a-9e60-ff69d6a5dec8",
   "metadata": {},
   "outputs": [],
   "source": [
    "# Sample data with missing values\n",
    "data = {\n",
    "    'Student': ['Alice', 'Bob', 'Charlie', 'David', 'Eva'],\n",
    "    'Math': [90, None, 78, None, 88],\n",
    "    'Science': [85, 92, None, 75, None],\n",
    "    'English': [88, None, None, 79, 91]\n",
    "}"
   ]
  },
  {
   "cell_type": "code",
   "execution_count": 7,
   "id": "0db9a354-8dbe-45e5-a22e-12951b06d305",
   "metadata": {},
   "outputs": [],
   "source": [
    "# Create a DataFrame\n",
    "df = pd.DataFrame(data)"
   ]
  },
  {
   "cell_type": "code",
   "execution_count": 8,
   "id": "61ce38e6-b48f-408d-a5b0-2dabfa5478b8",
   "metadata": {},
   "outputs": [],
   "source": [
    "# Use .ffill() for forward fill\n",
    "df_filled = df.ffill()"
   ]
  },
  {
   "cell_type": "code",
   "execution_count": 9,
   "id": "a9b05a03-349a-4ea3-a812-40947f6aaca9",
   "metadata": {},
   "outputs": [
    {
     "name": "stdout",
     "output_type": "stream",
     "text": [
      "DataFrame after Forward Fill:\n",
      "   Student  Math  Science  English\n",
      "0    Alice  90.0     85.0     88.0\n",
      "1      Bob  90.0     92.0     88.0\n",
      "2  Charlie  78.0     92.0     88.0\n",
      "3    David  78.0     75.0     79.0\n",
      "4      Eva  88.0     75.0     91.0\n"
     ]
    }
   ],
   "source": [
    "# Print the updated DataFrame\n",
    "print(\"DataFrame after Forward Fill:\")\n",
    "print(df_filled)\n"
   ]
  },
  {
   "cell_type": "code",
   "execution_count": null,
   "id": "b2d480be-b5de-4094-b8b4-b2ac12fec342",
   "metadata": {},
   "outputs": [],
   "source": []
  }
 ],
 "metadata": {
  "kernelspec": {
   "display_name": "Python 3 (ipykernel)",
   "language": "python",
   "name": "python3"
  },
  "language_info": {
   "codemirror_mode": {
    "name": "ipython",
    "version": 3
   },
   "file_extension": ".py",
   "mimetype": "text/x-python",
   "name": "python",
   "nbconvert_exporter": "python",
   "pygments_lexer": "ipython3",
   "version": "3.13.0"
  }
 },
 "nbformat": 4,
 "nbformat_minor": 5
}
