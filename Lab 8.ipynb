{
 "cells": [
  {
   "cell_type": "code",
   "execution_count": 29,
   "id": "8f06a00d-658a-4db4-9e80-87eea7674e99",
   "metadata": {},
   "outputs": [],
   "source": [
    "import pandas as pd\n",
    "from sklearn.metrics.pairwise import cosine_similarity\n",
    "import numpy as np"
   ]
  },
  {
   "cell_type": "code",
   "execution_count": 30,
   "id": "a8788fee-9e4f-4d5e-9c86-79b436bf9fce",
   "metadata": {},
   "outputs": [],
   "source": [
    "# Load the dataset (Make sure the ratings.csv is in the correct location)\n",
    "df = pd.read_csv('ratings.csv')  # Replace with full path if the file is elsewhere"
   ]
  },
  {
   "cell_type": "code",
   "execution_count": 31,
   "id": "14eb4118-351c-4838-ad4e-190f204b6e71",
   "metadata": {},
   "outputs": [],
   "source": [
    "# Create the User-Item Matrix\n",
    "user_movie_ratings = df.pivot(index='user_id', columns='movie_id', values='rating').fillna(0)"
   ]
  },
  {
   "cell_type": "code",
   "execution_count": 32,
   "id": "fcc93f09-4272-461a-8498-197e31b4ed10",
   "metadata": {},
   "outputs": [
    {
     "name": "stdout",
     "output_type": "stream",
     "text": [
      "User 1's ratings:\n",
      "movie_id\n",
      "1    5\n",
      "2    4\n",
      "3    3\n",
      "Name: 1, dtype: int64\n"
     ]
    }
   ],
   "source": [
    "# Check User 1's ratings\n",
    "print(f\"User 1's ratings:\\n{user_movie_ratings.loc[1]}\")"
   ]
  },
  {
   "cell_type": "code",
   "execution_count": 33,
   "id": "f3ed6dec-d8cc-4aef-b61f-198acf9c8702",
   "metadata": {},
   "outputs": [],
   "source": [
    "# Compute the Cosine Similarity between movies\n",
    "cosine_sim = cosine_similarity(user_movie_ratings.T)  # Using .T to transpose the matrix for items (movies)\n",
    "cosine_sim_df = pd.DataFrame(cosine_sim, index=user_movie_ratings.columns, columns=user_movie_ratings.columns)"
   ]
  },
  {
   "cell_type": "code",
   "execution_count": 34,
   "id": "5083a2c5-6df2-4547-9888-30fb2a9413aa",
   "metadata": {},
   "outputs": [
    {
     "name": "stdout",
     "output_type": "stream",
     "text": [
      "Cosine Similarity Matrix:\n",
      "movie_id         1         2         3\n",
      "movie_id                              \n",
      "1         1.000000  0.926872  0.862045\n",
      "2         0.926872  1.000000  0.904534\n",
      "3         0.862045  0.904534  1.000000\n"
     ]
    }
   ],
   "source": [
    "# Check the cosine similarity matrix\n",
    "print(f\"Cosine Similarity Matrix:\\n{cosine_sim_df.head()}\")\n",
    "\n",
    "# Function to recommend movies for a given user\n",
    "def recommend_movies(user_id, user_movie_ratings, cosine_sim_df, top_n=10):\n",
    "    # Get the movies rated by the user\n",
    "    rated_movies = user_movie_ratings.loc[user_id]\n",
    "    rated_movie_ids = rated_movies[rated_movies > 0].index  # Filter out unrated movies\n",
    "    \n",
    "    if len(rated_movie_ids) == 0:\n",
    "        print(f\"User {user_id} has not rated any movies!\")\n",
    "        return []\n",
    "    \n",
    "    print(f\"Movies rated by User {user_id}: {rated_movie_ids}\")\n",
    "    \n",
    "    # Create an empty dictionary to store predicted ratings\n",
    "    predicted_ratings = {}\n",
    "    \n",
    "    # For each unrated movie, calculate the predicted rating using the ratings of similar movies\n",
    "    unrated_movies = user_movie_ratings.columns.difference(rated_movie_ids)\n",
    "    \n",
    "    for unrated_movie in unrated_movies:\n",
    "        weighted_sum = 0\n",
    "        total_similarity = 0\n",
    "        \n",
    "        # Calculate the weighted sum of ratings for unrated movies using similar movies\n",
    "        for rated_movie in rated_movie_ids:\n",
    "            similarity = cosine_sim_df[rated_movie][unrated_movie]\n",
    "            weighted_sum += similarity * rated_movies[rated_movie]\n",
    "            total_similarity += abs(similarity)\n",
    "        \n",
    "        if total_similarity > 0:\n",
    "            predicted_ratings[unrated_movie] = weighted_sum / total_similarity  # Normalize by total similarity\n",
    "\n",
    "    if not predicted_ratings:\n",
    "        print(\"No predictions were made.\")\n",
    "        return []\n",
    "\n",
    "    # Print predicted ratings for debugging\n",
    "    print(f\"Predicted Ratings: {predicted_ratings}\")\n",
    "    \n",
    "    # Sort the movies based on the predicted ratings and return the top N movies\n",
    "    recommended_movie_ids = sorted(predicted_ratings, key=predicted_ratings.get, reverse=True)[:top_n]\n",
    "    \n",
    "    return recommended_movie_ids"
   ]
  },
  {
   "cell_type": "code",
   "execution_count": 35,
   "id": "960e026d-0bef-467a-82b9-ca5026b432b6",
   "metadata": {},
   "outputs": [
    {
     "name": "stdout",
     "output_type": "stream",
     "text": [
      "Movies rated by User 1: Index([1, 2, 3], dtype='int64', name='movie_id')\n",
      "No predictions were made.\n",
      "Recommended movies for User 1: []\n"
     ]
    }
   ],
   "source": [
    "# Example usage\n",
    "user_id = 1  # Replace with the user ID for whom you want recommendations\n",
    "recommended_movies = recommend_movies(user_id, user_movie_ratings, cosine_sim_df)\n",
    "print(f\"Recommended movies for User {user_id}: {recommended_movies}\")"
   ]
  },
  {
   "cell_type": "code",
   "execution_count": null,
   "id": "c268c23e-2cf2-44b4-8d20-139d02e26805",
   "metadata": {},
   "outputs": [],
   "source": []
  }
 ],
 "metadata": {
  "kernelspec": {
   "display_name": "Python 3 (ipykernel)",
   "language": "python",
   "name": "python3"
  },
  "language_info": {
   "codemirror_mode": {
    "name": "ipython",
    "version": 3
   },
   "file_extension": ".py",
   "mimetype": "text/x-python",
   "name": "python",
   "nbconvert_exporter": "python",
   "pygments_lexer": "ipython3",
   "version": "3.11.0"
  }
 },
 "nbformat": 4,
 "nbformat_minor": 5
}
