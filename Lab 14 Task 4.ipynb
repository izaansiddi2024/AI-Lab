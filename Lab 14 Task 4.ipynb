{
 "cells": [
  {
   "cell_type": "code",
   "execution_count": 1,
   "id": "786f0ace-9fd8-4b89-a27e-069073400ce7",
   "metadata": {},
   "outputs": [],
   "source": [
    "# Define the student database as an empty dictionary\n",
    "student_db = {}"
   ]
  },
  {
   "cell_type": "code",
   "execution_count": 2,
   "id": "898530a6-85a5-4df6-b386-755e6274755f",
   "metadata": {},
   "outputs": [],
   "source": [
    "# Function to add a student to the database\n",
    "def add_student(student_id, name, grade):\n",
    "    if student_id in student_db:\n",
    "        print(f\"Student ID {student_id} already exists.\")\n",
    "    else:\n",
    "        student_db[student_id] = {\"name\": name, \"grade\": grade}\n",
    "        print(f\"Student {name} added successfully.\")"
   ]
  },
  {
   "cell_type": "code",
   "execution_count": 3,
   "id": "009c7f36-8207-4cdc-b8fb-8d5323ab9dfe",
   "metadata": {},
   "outputs": [],
   "source": [
    "# Function to display all students in the database\n",
    "def display_students():\n",
    "    if not student_db:\n",
    "        print(\"No students in the database.\")\n",
    "    else:\n",
    "        print(\"\\nStudent Database:\")\n",
    "        for student_id, info in student_db.items():\n",
    "            print(f\"ID: {student_id}, Name: {info['name']}, Grade: {info['grade']}\")"
   ]
  },
  {
   "cell_type": "code",
   "execution_count": 4,
   "id": "586ae168-1364-4647-b9bc-6d7081772519",
   "metadata": {},
   "outputs": [],
   "source": [
    "# Function to calculate the average grade of all students\n",
    "def get_average_grade():\n",
    "    if not student_db:\n",
    "        print(\"No students in the database to calculate average grade.\")\n",
    "        return None\n",
    "    total_grade = sum(info['grade'] for info in student_db.values())\n",
    "    average_grade = total_grade / len(student_db)\n",
    "    return average_grade"
   ]
  },
  {
   "cell_type": "code",
   "execution_count": 5,
   "id": "461481b9-41a3-4e6f-be22-464a872654e4",
   "metadata": {},
   "outputs": [
    {
     "name": "stdout",
     "output_type": "stream",
     "text": [
      "Student Alice added successfully.\n",
      "Student Bob added successfully.\n",
      "Student Charlie added successfully.\n"
     ]
    }
   ],
   "source": [
    "# Adding students to the database\n",
    "add_student(1, \"Alice\", 85)\n",
    "add_student(2, \"Bob\", 92)\n",
    "add_student(3, \"Charlie\", 78)"
   ]
  },
  {
   "cell_type": "code",
   "execution_count": 6,
   "id": "6e49f8ce-7337-47af-bd9d-a42348436a3a",
   "metadata": {},
   "outputs": [
    {
     "name": "stdout",
     "output_type": "stream",
     "text": [
      "\n",
      "Student Database:\n",
      "ID: 1, Name: Alice, Grade: 85\n",
      "ID: 2, Name: Bob, Grade: 92\n",
      "ID: 3, Name: Charlie, Grade: 78\n"
     ]
    }
   ],
   "source": [
    "# Display all students\n",
    "display_students()"
   ]
  },
  {
   "cell_type": "code",
   "execution_count": 7,
   "id": "987d448d-1d69-4a14-aaf2-2b1128dcc357",
   "metadata": {},
   "outputs": [
    {
     "name": "stdout",
     "output_type": "stream",
     "text": [
      "\n",
      "The average grade of all students is: 85.00\n"
     ]
    }
   ],
   "source": [
    "# Calculate and display the average grade\n",
    "average = get_average_grade()\n",
    "if average is not None:\n",
    "    print(f\"\\nThe average grade of all students is: {average:.2f}\")"
   ]
  },
  {
   "cell_type": "code",
   "execution_count": null,
   "id": "d28fb9f1-5122-42ef-b209-61c5b1ff2868",
   "metadata": {},
   "outputs": [],
   "source": []
  }
 ],
 "metadata": {
  "kernelspec": {
   "display_name": "Python 3 (ipykernel)",
   "language": "python",
   "name": "python3"
  },
  "language_info": {
   "codemirror_mode": {
    "name": "ipython",
    "version": 3
   },
   "file_extension": ".py",
   "mimetype": "text/x-python",
   "name": "python",
   "nbconvert_exporter": "python",
   "pygments_lexer": "ipython3",
   "version": "3.11.0"
  }
 },
 "nbformat": 4,
 "nbformat_minor": 5
}
