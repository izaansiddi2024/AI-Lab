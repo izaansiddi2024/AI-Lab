{
 "cells": [
  {
   "cell_type": "code",
   "execution_count": 1,
   "id": "f1143eb9-6bec-450e-a0d2-7f220af98086",
   "metadata": {},
   "outputs": [],
   "source": [
    "from collections import deque"
   ]
  },
  {
   "cell_type": "code",
   "execution_count": 3,
   "id": "10295325-6acb-4978-81c7-c2fce87a82e2",
   "metadata": {},
   "outputs": [],
   "source": [
    "# Graph representation as an adjacency list\n",
    "graph = {\n",
    "    'A': ['B', 'C', 'E'],\n",
    "    'B': ['D'],\n",
    "    'C': ['G'],\n",
    "    'E': ['F'],\n",
    "    'F': ['G'],\n",
    "    'D': [],\n",
    "    'G': []\n",
    "}\n",
    "\n",
    "def bfs(graph, start, goal):\n",
    "    # Initialize open and closed lists\n",
    "    open_list = deque([start])  # Queue for BFS\n",
    "    closed_list = []           # List for visited nodes\n",
    "    \n",
    "    while open_list:\n",
    "        # Dequeue the first element\n",
    "        current = open_list.popleft()\n",
    "        \n",
    "        # Add the current node to the closed list\n",
    "        closed_list.append(current)\n",
    "        \n",
    "        # If goal is found, stop the search\n",
    "        if current == goal:\n",
    "            print(\"Goal reached!\")\n",
    "            break\n",
    "        \n",
    "        # Add neighbors of the current node to the open list\n",
    "        for neighbor in graph[current]:\n",
    "            if neighbor not in closed_list and neighbor not in open_list:\n",
    "                open_list.append(neighbor)\n",
    "        \n",
    "        # Display the current state of open and closed lists\n",
    "        print(f\"Open List: {list(open_list)}\")\n",
    "        print(f\"Closed List: {closed_list}\")\n",
    "        print(\"------------------\")\n",
    "    \n",
    "    return closed_list"
   ]
  },
  {
   "cell_type": "code",
   "execution_count": 5,
   "id": "10f7c11b-08ef-492e-9d09-704d3348b8ec",
   "metadata": {},
   "outputs": [
    {
     "name": "stdout",
     "output_type": "stream",
     "text": [
      "Open List: ['B', 'C', 'E']\n",
      "Closed List: ['A']\n",
      "------------------\n",
      "Open List: ['C', 'E', 'D']\n",
      "Closed List: ['A', 'B']\n",
      "------------------\n",
      "Open List: ['E', 'D', 'G']\n",
      "Closed List: ['A', 'B', 'C']\n",
      "------------------\n",
      "Open List: ['D', 'G', 'F']\n",
      "Closed List: ['A', 'B', 'C', 'E']\n",
      "------------------\n",
      "Open List: ['G', 'F']\n",
      "Closed List: ['A', 'B', 'C', 'E', 'D']\n",
      "------------------\n",
      "Goal reached!\n",
      "Final Closed List (Path Explored): ['A', 'B', 'C', 'E', 'D', 'G']\n"
     ]
    }
   ],
   "source": [
    "# Start BFS\n",
    "start_node = 'A'\n",
    "goal_node = 'G'\n",
    "\n",
    "result = bfs(graph, start_node, goal_node)\n",
    "\n",
    "print(\"Final Closed List (Path Explored):\", result)"
   ]
  },
  {
   "cell_type": "code",
   "execution_count": null,
   "id": "86c6f96e-daea-4282-bd2d-174416b9f6bc",
   "metadata": {},
   "outputs": [],
   "source": []
  }
 ],
 "metadata": {
  "kernelspec": {
   "display_name": "Python 3 (ipykernel)",
   "language": "python",
   "name": "python3"
  },
  "language_info": {
   "codemirror_mode": {
    "name": "ipython",
    "version": 3
   },
   "file_extension": ".py",
   "mimetype": "text/x-python",
   "name": "python",
   "nbconvert_exporter": "python",
   "pygments_lexer": "ipython3",
   "version": "3.12.7"
  }
 },
 "nbformat": 4,
 "nbformat_minor": 5
}
