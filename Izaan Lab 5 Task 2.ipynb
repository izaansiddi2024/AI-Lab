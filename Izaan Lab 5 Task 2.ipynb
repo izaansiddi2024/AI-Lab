{
 "cells": [
  {
   "cell_type": "code",
   "execution_count": 1,
   "id": "a2fa1be4-b925-45fc-bd6e-63bd33592d60",
   "metadata": {},
   "outputs": [],
   "source": [
    "# Import required libraries\n",
    "import pandas as pd\n",
    "import numpy as np\n",
    "from sklearn.tree import DecisionTreeClassifier\n",
    "from sklearn.metrics import confusion_matrix, accuracy_score"
   ]
  },
  {
   "cell_type": "code",
   "execution_count": 2,
   "id": "5f9a08b5-89af-4aec-bf1f-9477d2b140aa",
   "metadata": {},
   "outputs": [],
   "source": [
    "# Step 1: Define the dataset (from Table 1)\n",
    "data = {\n",
    "    'Gender': ['male', 'male', 'male', 'male', 'female', 'female', 'female', 'female'],\n",
    "    'Height': [6.00, 5.92, 5.58, 5.92, 5.00, 5.50, 5.42, 5.75],\n",
    "    'Weight': [180, 190, 170, 165, 100, 150, 130, 150],\n",
    "    'Foot_Size': [12, 11, 12, 10, 6, 8, 7, 9]\n",
    "}"
   ]
  },
  {
   "cell_type": "code",
   "execution_count": 4,
   "id": "33b09913-ae60-40cc-9297-512570497729",
   "metadata": {},
   "outputs": [],
   "source": [
    "# Step 2: Construct pandas DataFrame\n",
    "df = pd.DataFrame(data)"
   ]
  },
  {
   "cell_type": "code",
   "execution_count": 5,
   "id": "902b180f-5271-4148-8f9c-93908cf2fdd0",
   "metadata": {},
   "outputs": [],
   "source": [
    "# Step 3: Encode the 'Gender' column using LabelEncoder\n",
    "from sklearn.preprocessing import LabelEncoder\n",
    "label_encoder = LabelEncoder()\n",
    "df['Gender'] = label_encoder.fit_transform(df['Gender'])  # male -> 1, female -> 0\n"
   ]
  },
  {
   "cell_type": "code",
   "execution_count": 6,
   "id": "092aed7e-e2d0-4e37-9412-b2d522cc5e25",
   "metadata": {},
   "outputs": [],
   "source": [
    "# Step 4: Generate features and labels\n",
    "features = df[['Height', 'Weight', 'Foot_Size']].values  # Convert to numpy array\n",
    "labels = df['Gender'].values"
   ]
  },
  {
   "cell_type": "code",
   "execution_count": 7,
   "id": "ff91751b-3a70-4be3-8db3-325da60073fe",
   "metadata": {},
   "outputs": [],
   "source": [
    "# Step 5: Train the Decision Tree Classifier\n",
    "classifier = DecisionTreeClassifier()\n",
    "classifier = classifier.fit(features, labels)\n"
   ]
  },
  {
   "cell_type": "code",
   "execution_count": 8,
   "id": "86462172-2cb1-4cb9-bd38-32b4af76fa2d",
   "metadata": {},
   "outputs": [],
   "source": [
    "# Step 6: Predict the class for a new entry\n",
    "new_entry = [[6.00, 180, 12]]  # New entry features\n",
    "prediction = classifier.predict(new_entry)\n",
    "predicted_label = label_encoder.inverse_transform(prediction)  # Convert back to string label"
   ]
  },
  {
   "cell_type": "code",
   "execution_count": 9,
   "id": "04cc8853-65de-4234-b1e6-42444543dcc3",
   "metadata": {},
   "outputs": [
    {
     "name": "stdout",
     "output_type": "stream",
     "text": [
      "Predicted Gender for new entry [[6.0, 180, 12]]: male\n"
     ]
    }
   ],
   "source": [
    "# Step 7: Output the prediction\n",
    "print(f\"Predicted Gender for new entry {new_entry}: {predicted_label[0]}\")\n"
   ]
  },
  {
   "cell_type": "code",
   "execution_count": 11,
   "id": "e6ff63e5-01ff-40d9-a36c-9413d2d40a5c",
   "metadata": {},
   "outputs": [
    {
     "name": "stdout",
     "output_type": "stream",
     "text": [
      "\n",
      "Confusion Matrix:\n",
      "[[4 0]\n",
      " [0 4]]\n",
      "\n",
      "Accuracy Score: 100.00%\n"
     ]
    }
   ],
   "source": [
    "# Step 8: Evaluate the model using a confusion matrix and accuracy score\n",
    "# Split the dataset for evaluation (train-test split can also be done for larger datasets)\n",
    "predictions = classifier.predict(features)  # Predict on training data\n",
    "conf_matrix = confusion_matrix(labels, predictions)\n",
    "accuracy = accuracy_score(labels, predictions)\n",
    "\n",
    "print(\"\\nConfusion Matrix:\")\n",
    "print(conf_matrix)\n",
    "print(f\"\\nAccuracy Score: {accuracy * 100:.2f}%\")"
   ]
  },
  {
   "cell_type": "code",
   "execution_count": null,
   "id": "0987493f-d47e-4f26-aeae-0093f822b045",
   "metadata": {},
   "outputs": [],
   "source": []
  }
 ],
 "metadata": {
  "kernelspec": {
   "display_name": "Python 3 (ipykernel)",
   "language": "python",
   "name": "python3"
  },
  "language_info": {
   "codemirror_mode": {
    "name": "ipython",
    "version": 3
   },
   "file_extension": ".py",
   "mimetype": "text/x-python",
   "name": "python",
   "nbconvert_exporter": "python",
   "pygments_lexer": "ipython3",
   "version": "3.11.7"
  }
 },
 "nbformat": 4,
 "nbformat_minor": 5
}
