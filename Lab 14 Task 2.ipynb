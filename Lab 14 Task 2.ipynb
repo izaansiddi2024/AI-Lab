{
 "cells": [
  {
   "cell_type": "code",
   "execution_count": 1,
   "id": "655f86ed-6d3f-4bd4-9152-e3c96c03f314",
   "metadata": {},
   "outputs": [],
   "source": [
    "def dfs(graph, start, goal):\n",
    "    # Initialize open and closed lists\n",
    "    open_list = [start]\n",
    "    closed_list = []\n",
    "\n",
    "    # Perform DFS\n",
    "    while open_list:\n",
    "        # Get the last node from the open list (stack behavior)\n",
    "        current = open_list.pop()\n",
    "        closed_list.append(current)\n",
    "\n",
    "        # Check if we have reached the goal\n",
    "        if current == goal:\n",
    "            print(\"Goal found!\")\n",
    "            print(\"Open List:\", open_list)\n",
    "            print(\"Closed List:\", closed_list)\n",
    "            return\n",
    "\n",
    "        # Add neighbors to the open list in reverse order (to maintain DFS behavior)\n",
    "        for neighbor in reversed(graph[current]):\n",
    "            if neighbor not in open_list and neighbor not in closed_list:\n",
    "                open_list.append(neighbor)\n",
    "\n",
    "    print(\"Goal not found!\")\n",
    "    print(\"Open List:\", open_list)\n",
    "    print(\"Closed List:\", closed_list)"
   ]
  },
  {
   "cell_type": "code",
   "execution_count": 2,
   "id": "8c15a27b-9cea-4320-a03e-b0f716c6d905",
   "metadata": {},
   "outputs": [
    {
     "name": "stdout",
     "output_type": "stream",
     "text": [
      "Goal found!\n",
      "Open List: ['D']\n",
      "Closed List: ['A', 'B', 'C', 'E', 'F']\n"
     ]
    }
   ],
   "source": [
    "# Define the graph (same as BFS)\n",
    "graph = {\n",
    "    'A': ['B', 'C', 'D'],\n",
    "    'B': [],\n",
    "    'C': ['E', 'F'],\n",
    "    'D': [],\n",
    "    'E': [],\n",
    "    'F': []\n",
    "}\n",
    "\n",
    "# Run DFS on the graph\n",
    "dfs(graph, start='A', goal='F')"
   ]
  },
  {
   "cell_type": "code",
   "execution_count": null,
   "id": "4e03a715-3b1f-4c6d-b3be-b072cdad65d7",
   "metadata": {},
   "outputs": [],
   "source": []
  }
 ],
 "metadata": {
  "kernelspec": {
   "display_name": "Python 3 (ipykernel)",
   "language": "python",
   "name": "python3"
  },
  "language_info": {
   "codemirror_mode": {
    "name": "ipython",
    "version": 3
   },
   "file_extension": ".py",
   "mimetype": "text/x-python",
   "name": "python",
   "nbconvert_exporter": "python",
   "pygments_lexer": "ipython3",
   "version": "3.11.0"
  }
 },
 "nbformat": 4,
 "nbformat_minor": 5
}
